{
 "cells": [
  {
   "cell_type": "markdown",
   "metadata": {},
   "source": [
    "# Lecture 02: Files and solvers in OpenFOAM"
   ]
  },
  {
   "cell_type": "markdown",
   "metadata": {},
   "source": [
    "<hr style=\"border:2px solid gray\"> </hr>"
   ]
  },
  {
   "cell_type": "markdown",
   "metadata": {},
   "source": [
    "## Authors\n",
    "\n",
    "Ajay B Harish$^+$, Sanjay Govindjee and Frank McKenna <br>\n",
    "*SimCenter, University of California, Berkeley* <br>\n",
    "\n",
    "$^+$**Corresponding author** <br>\n",
    "*Web:* www.ajaybharish.com <br>\n",
    "*Email:* ajaybh@berkeley.edu <br>\n",
    "\n",
    "## How to cite\n",
    "Harish, Ajay Bangalore; Govindjee, Sanjay; McKenna, Frank (2020) “CFD Notebooks (Beginner).” DesignSafe-CI. https://doi.org/10.17603/ds2-w2x6-nm09.\n",
    "\n",
    "\n",
    "## Copyright\n",
    "\n",
    "The CFD Notebooks are developed by the NHERI <a href=\"http://simcenter.designsafe-ci.org\">SimCenter</a>. It is copyrighted to “The Regents of the University of California” and is licensed under the BSD 2-clause license. For more information, please check our webpage for information on <a href=\"https://nheri-simcenter.github.io/CFD-Notebooks/geninfo/copyright.html\">licensing and distribution</a>."
   ]
  },
  {
   "cell_type": "markdown",
   "metadata": {},
   "source": [
    "## Goal of this lecture\n",
    "\n",
    "- What is the file structure of OpenFOAM?\n",
    "- What are the options available?\n",
    "- What are the different OpenFOAM solvers?\n",
    "- When should a particular OpenFOAM solver be employed?\n",
    "- **Estimated time for completion:** 90-120 minutes\n",
    "\n",
    "For any queries, write to us on our <a href=\"http://simcenter-messageboard.designsafe-ci.org/smf/index.php?board=11.0\">message board</a>.\n",
    "\n",
    "<b>If you would like our feedback, you can post your solutions for the exercises to the <a href=\"http://simcenter-messageboard.designsafe-ci.org/smf/index.php?board=11.0\">message board</a></b>."
   ]
  },
  {
   "cell_type": "code",
   "execution_count": 139,
   "metadata": {
    "scrolled": false
   },
   "outputs": [
    {
     "data": {
      "text/html": [
       "\n",
       "        <iframe\n",
       "            width=\"560\"\n",
       "            height=\"315\"\n",
       "            src=\"https://www.youtube.com/embed/N2dgw4LjPUE?rel=0&amp;controls=1&amp;showinfo=0\"\n",
       "            frameborder=\"0\"\n",
       "            allowfullscreen\n",
       "        ></iframe>\n",
       "        "
      ],
      "text/plain": [
       "<IPython.lib.display.IFrame at 0x7ff511bb3860>"
      ]
     },
     "metadata": {},
     "output_type": "display_data"
    }
   ],
   "source": [
    "# Introductory video for lecture 02 (L02a)\n",
    "from IPython.display import IFrame\n",
    "display(IFrame(('https://www.youtube.com/embed/N2dgw4LjPUE?rel=0&amp;controls=1&amp;showinfo=0'), width=560, height=315))"
   ]
  },
  {
   "cell_type": "markdown",
   "metadata": {},
   "source": [
    "<hr style=\"border:2px solid gray\"> </hr>"
   ]
  },
  {
   "cell_type": "markdown",
   "metadata": {},
   "source": [
    "## Step 1/8: OpenFOAM input/case directories\n",
    "\n",
    "In order to run our CFD simulation using OpenFOAM, we need to provide some inputs. The inputs for OpenFOAM is given using input files. These are known as dictionaries. In this first part, we will explore the folder structure for our pitzDaily example that we ran in Lecture 01. We will look at the important files and try to understand the structure of input files and folders used in OpenFOAM."
   ]
  },
  {
   "cell_type": "code",
   "execution_count": 140,
   "metadata": {
    "scrolled": false
   },
   "outputs": [
    {
     "data": {
      "text/html": [
       "\n",
       "        <iframe\n",
       "            width=\"560\"\n",
       "            height=\"315\"\n",
       "            src=\"https://www.youtube.com/embed/j2COBSn_RL8?rel=0&amp;controls=1&amp;showinfo=0\"\n",
       "            frameborder=\"0\"\n",
       "            allowfullscreen\n",
       "        ></iframe>\n",
       "        "
      ],
      "text/plain": [
       "<IPython.lib.display.IFrame at 0x7ff511bb3668>"
      ]
     },
     "metadata": {},
     "output_type": "display_data"
    }
   ],
   "source": [
    "# Video to discuss about the section on OpenFOAM input file structure (L02b)\n",
    "display(IFrame(('https://www.youtube.com/embed/j2COBSn_RL8?rel=0&amp;controls=1&amp;showinfo=0'), width=560, height=315))"
   ]
  },
  {
   "cell_type": "markdown",
   "metadata": {},
   "source": [
    "### Access through bash\n",
    "\n",
    "First, we will try to get access to a command-mode to access our folders. Using the `bash` command, we will get access to linux-type command mode. Using the command `ls` let us explore the directory. The pitzDaily example is located in our examples folder."
   ]
  },
  {
   "cell_type": "code",
   "execution_count": 110,
   "metadata": {
    "scrolled": false
   },
   "outputs": [
    {
     "name": "stdout",
     "output_type": "stream",
     "text": [
      "0\n",
      "constant\n",
      "system\n"
     ]
    }
   ],
   "source": [
    "%%bash\n",
    "ls examples/pitzDaily"
   ]
  },
  {
   "cell_type": "markdown",
   "metadata": {},
   "source": [
    "### Viewing folder and file contents in Jupyter\n",
    "\n",
    "Now that you have accessed the pitzDaily case directory, we can briefly look at the structure of each of these directories. In the next section, we will explore them in more detail. An OpenFOAM input case consists of three main directories - `0`, `constant` and `system` and each of these directories includes some \"dictionary\" files. \n",
    "\n",
    "As an example let us navigate and list out the dictionaries in the `constant` folder."
   ]
  },
  {
   "cell_type": "code",
   "execution_count": 114,
   "metadata": {
    "scrolled": false
   },
   "outputs": [
    {
     "name": "stdout",
     "output_type": "stream",
     "text": [
      "transportProperties\n",
      "turbulenceProperties\n"
     ]
    }
   ],
   "source": [
    "%%bash\n",
    "ls examples/pitzDaily/constant"
   ]
  },
  {
   "cell_type": "markdown",
   "metadata": {},
   "source": [
    "The `constant` folder has two files\n",
    "\n",
    "- `transportProperties`\n",
    "- `turbulenceProperties`\n",
    "\n",
    "You can also check the contents of the other two folders using the below commands\n",
    "\n",
    "- `ls examples/pitzDaily/system`\n",
    "- `ls examples/pitzDaily/0`\n",
    "\n",
    "In the upcoming sections, we will discuss about these dictionary files. Before proceeding ahead, let us also check out how to look at the contents of these files. We can use the `open` command and print out the contents of the file."
   ]
  },
  {
   "cell_type": "code",
   "execution_count": 118,
   "metadata": {
    "scrolled": true
   },
   "outputs": [
    {
     "name": "stdout",
     "output_type": "stream",
     "text": [
      "/*--------------------------------*- C++ -*----------------------------------*\\\n",
      "  =========                 |\n",
      "  \\\\      /  F ield         | OpenFOAM: The Open Source CFD Toolbox\n",
      "   \\\\    /   O peration     | Website:  https://openfoam.org\n",
      "    \\\\  /    A nd           | Version:  7\n",
      "     \\\\/     M anipulation  |\n",
      "\\*---------------------------------------------------------------------------*/\n",
      "FoamFile\n",
      "{\n",
      "    version     2.0;\n",
      "    format      ascii;\n",
      "    class       dictionary;\n",
      "    location    \"constant\";\n",
      "    object      transportProperties;\n",
      "}\n",
      "// * * * * * * * * * * * * * * * * * * * * * * * * * * * * * * * * * * * * * //\n",
      "\n",
      "transportModel  Newtonian;\n",
      "\n",
      "nu              [0 2 -1 0 0 0 0] 1e-05;\n",
      "\n",
      "// ************************************************************************* //\n",
      "\n"
     ]
    }
   ],
   "source": [
    "f = open(\"examples/pitzDaily/constant/transportProperties\", \"r\")\n",
    "file_contents = f.read()\n",
    "print(file_contents)"
   ]
  },
  {
   "cell_type": "markdown",
   "metadata": {},
   "source": [
    "### Exercise 2.1\n",
    "\n",
    "Why not try to print out the contents of the `turbulenceProperties` dictionary as well, before proceeding ahead?"
   ]
  },
  {
   "cell_type": "code",
   "execution_count": null,
   "metadata": {
    "scrolled": true
   },
   "outputs": [],
   "source": []
  },
  {
   "cell_type": "markdown",
   "metadata": {},
   "source": [
    "<hr style=\"border:2px solid gray\"> </hr>"
   ]
  },
  {
   "cell_type": "markdown",
   "metadata": {},
   "source": [
    "## Step 2/8: Dimensional units in OpenFOAM\n",
    "\n",
    "As we saw in the previous section, each of the OpenFOAM files has dimensions mentioned. For example in the `transportProperties` file, we had the Dynamic viscosity and it read\n",
    "\n",
    "    transportModel Newtonian;\n",
    "    nu [ 0 2 -1 0 0 0 0 ] 1.5e-05;\n",
    "\n",
    "Before proceeding ahead into the case directories, it is important to understand the dimensions given in `[0 2 -1 0 0 0 0]`. Specification of the units is critical. Any algebraic operation like addition/subtraction are only meaningful if the properties are of the same dimensional units. It is meaningless to add 1kg to 1m. Thus, as a safeguard against implementing a meaningless operation, OpenFOAM encourages the user to attach dimensional units and will perfoam a dimensional check of any operation. \n",
    "\n",
    "The seven base units used `[ 0 2 -1 0 0 0 0 ]` in correspond to :\n",
    "- Mass in kilogram (kg)\n",
    "- Length in meter (m)\n",
    "- Time in seconds (s)\n",
    "- Temperature in Kelvin (K)\n",
    "- Quantity in moles (mol)\n",
    "- Current in ampere (A)\n",
    "- Luminous intensity in candela (cd)\n",
    "\n",
    "In this example, we are saying that the units of dynamic viscosity is $m^{2}s^{-1}$"
   ]
  },
  {
   "cell_type": "code",
   "execution_count": 141,
   "metadata": {
    "scrolled": false
   },
   "outputs": [
    {
     "data": {
      "text/html": [
       "\n",
       "        <iframe\n",
       "            width=\"560\"\n",
       "            height=\"315\"\n",
       "            src=\"https://www.youtube.com/embed/AzWgIJQWtfE?rel=0&amp;controls=1&amp;showinfo=0\"\n",
       "            frameborder=\"0\"\n",
       "            allowfullscreen\n",
       "        ></iframe>\n",
       "        "
      ],
      "text/plain": [
       "<IPython.lib.display.IFrame at 0x7ff511bb32b0>"
      ]
     },
     "metadata": {},
     "output_type": "display_data"
    }
   ],
   "source": [
    "# Video to explain the zero-directory (L02c)\n",
    "display(IFrame(('https://www.youtube.com/embed/AzWgIJQWtfE?rel=0&amp;controls=1&amp;showinfo=0'), width=560, height=315))"
   ]
  },
  {
   "cell_type": "markdown",
   "metadata": {},
   "source": [
    "### Exercise 2.2\n",
    "\n",
    "Before moving ahead, can you check out which other files have dimensions?"
   ]
  },
  {
   "cell_type": "code",
   "execution_count": 117,
   "metadata": {
    "scrolled": true
   },
   "outputs": [
    {
     "name": "stdout",
     "output_type": "stream",
     "text": [
      "/*--------------------------------*- C++ -*----------------------------------*\\\n",
      "  =========                 |\n",
      "  \\\\      /  F ield         | OpenFOAM: The Open Source CFD Toolbox\n",
      "   \\\\    /   O peration     | Website:  https://openfoam.org\n",
      "    \\\\  /    A nd           | Version:  7\n",
      "     \\\\/     M anipulation  |\n",
      "\\*---------------------------------------------------------------------------*/\n",
      "FoamFile\n",
      "{\n",
      "    version     2.0;\n",
      "    format      ascii;\n",
      "    class       dictionary;\n",
      "    object      blockMeshDict;\n",
      "}\n",
      "// * * * * * * * * * * * * * * * * * * * * * * * * * * * * * * * * * * * * * //\n",
      "\n",
      "convertToMeters 0.001;\n",
      "\n",
      "vertices\n",
      "(\n",
      "    (-20.6 0 -0.5)\n",
      "    (-20.6 25.4 -0.5)\n",
      "    (0 -25.4 -0.5)\n",
      "    (0 0 -0.5)\n",
      "    (0 25.4 -0.5)\n",
      "    (206 -25.4 -0.5)\n",
      "    (206 0 -0.5)\n",
      "    (206 25.4 -0.5)\n",
      "    (290 -16.6 -0.5)\n",
      "    (290 0 -0.5)\n",
      "    (290 16.6 -0.5)\n",
      "\n",
      "    (-20.6 0 0.5)\n",
      "    (-20.6 25.4 0.5)\n",
      "    (0 -25.4 0.5)\n",
      "    (0 0 0.5)\n",
      "    (0 25.4 0.5)\n",
      "    (206 -25.4 0.5)\n",
      "    (206 0 0.5)\n",
      "    (206 25.4 0.5)\n",
      "    (290 -16.6 0.5)\n",
      "    (290 0 0.5)\n",
      "    (290 16.6 0.5)\n",
      ");\n",
      "\n",
      "negY\n",
      "(\n",
      "    (2 4 1)\n",
      "    (1 3 0.3)\n",
      ");\n",
      "\n",
      "posY\n",
      "(\n",
      "    (1 4 2)\n",
      "    (2 3 4)\n",
      "    (2 4 0.25)\n",
      ");\n",
      "\n",
      "posYR\n",
      "(\n",
      "    (2 1 1)\n",
      "    (1 1 0.25)\n",
      ");\n",
      "\n",
      "\n",
      "blocks\n",
      "(\n",
      "    hex (0 3 4 1 11 14 15 12)\n",
      "    (18 30 1)\n",
      "    simpleGrading (0.5 $posY 1)\n",
      "\n",
      "    hex (2 5 6 3 13 16 17 14)\n",
      "    (180 27 1)\n",
      "    edgeGrading (4 4 4 4 $negY 1 1 $negY 1 1 1 1)\n",
      "\n",
      "    hex (3 6 7 4 14 17 18 15)\n",
      "    (180 30 1)\n",
      "    edgeGrading (4 4 4 4 $posY $posYR $posYR $posY 1 1 1 1)\n",
      "\n",
      "    hex (5 8 9 6 16 19 20 17)\n",
      "    (25 27 1)\n",
      "    simpleGrading (2.5 1 1)\n",
      "\n",
      "    hex (6 9 10 7 17 20 21 18)\n",
      "    (25 30 1)\n",
      "    simpleGrading (2.5 $posYR 1)\n",
      ");\n",
      "\n",
      "edges\n",
      "(\n",
      ");\n",
      "\n",
      "boundary\n",
      "(\n",
      "    inlet\n",
      "    {\n",
      "        type patch;\n",
      "        faces\n",
      "        (\n",
      "            (0 1 12 11)\n",
      "        );\n",
      "    }\n",
      "    outlet\n",
      "    {\n",
      "        type patch;\n",
      "        faces\n",
      "        (\n",
      "            (8 9 20 19)\n",
      "            (9 10 21 20)\n",
      "        );\n",
      "    }\n",
      "    upperWall\n",
      "    {\n",
      "        type wall;\n",
      "        faces\n",
      "        (\n",
      "            (1 4 15 12)\n",
      "            (4 7 18 15)\n",
      "            (7 10 21 18)\n",
      "        );\n",
      "    }\n",
      "    lowerWall\n",
      "    {\n",
      "        type wall;\n",
      "        faces\n",
      "        (\n",
      "            (0 3 14 11)\n",
      "            (3 2 13 14)\n",
      "            (2 5 16 13)\n",
      "            (5 8 19 16)\n",
      "        );\n",
      "    }\n",
      "    frontAndBack\n",
      "    {\n",
      "        type empty;\n",
      "        faces\n",
      "        (\n",
      "            (0 3 4 1)\n",
      "            (2 5 6 3)\n",
      "            (3 6 7 4)\n",
      "            (5 8 9 6)\n",
      "            (6 9 10 7)\n",
      "            (11 14 15 12)\n",
      "            (13 16 17 14)\n",
      "            (14 17 18 15)\n",
      "            (16 19 20 17)\n",
      "            (17 20 21 18)\n",
      "        );\n",
      "    }\n",
      ");\n",
      "\n",
      "// ************************************************************************* //\n",
      "\n"
     ]
    }
   ],
   "source": [
    "f = open(\"examples/pitzDaily/system/blockMeshDict\", \"r\")\n",
    "file_contents = f.read()\n",
    "print(file_contents)"
   ]
  },
  {
   "cell_type": "markdown",
   "metadata": {},
   "source": [
    "<hr style=\"border:2px solid gray\"> </hr>"
   ]
  },
  {
   "cell_type": "markdown",
   "metadata": {},
   "source": [
    "## Step 3/8: OpenFOAM case files - `constant` directory\n",
    "\n",
    "Starting with the `constant` folder, firstly let us try to access it below. Depending on the problem at hand, there can be several other files. For now, we will two of the important dictionary files that need to be present in this folder for most problems: `transportProperties` and `turbulenceProperties`. Again, note here that exceptions can exist based on the problem being solved.\n",
    "\n",
    "- `transportProperties`: This dictionary file is used to provide information about the nature of the fluid including viscosity property.\n",
    "\n",
    "\n",
    "- `turbulenceProperties`: This dictionary file has the description of turbulence models and its parameters. "
   ]
  },
  {
   "cell_type": "code",
   "execution_count": 142,
   "metadata": {
    "scrolled": false
   },
   "outputs": [
    {
     "data": {
      "text/html": [
       "\n",
       "        <iframe\n",
       "            width=\"560\"\n",
       "            height=\"315\"\n",
       "            src=\"https://www.youtube.com/embed/zGhCdEsqk20?rel=0&amp;controls=1&amp;showinfo=0\"\n",
       "            frameborder=\"0\"\n",
       "            allowfullscreen\n",
       "        ></iframe>\n",
       "        "
      ],
      "text/plain": [
       "<IPython.lib.display.IFrame at 0x7ff511bb3860>"
      ]
     },
     "metadata": {},
     "output_type": "display_data"
    }
   ],
   "source": [
    "# Video to explain the zero-directory (L02d)\n",
    "display(IFrame(('https://www.youtube.com/embed/zGhCdEsqk20?rel=0&amp;controls=1&amp;showinfo=0'), width=560, height=315))"
   ]
  },
  {
   "cell_type": "markdown",
   "metadata": {},
   "source": [
    "### constant/transportProperties\n",
    "\n",
    "In our pitzDaily example, we consider the flow to be Newtonian. Let us first open and read the file."
   ]
  },
  {
   "cell_type": "code",
   "execution_count": 119,
   "metadata": {
    "scrolled": true
   },
   "outputs": [
    {
     "name": "stdout",
     "output_type": "stream",
     "text": [
      "/*--------------------------------*- C++ -*----------------------------------*\\\n",
      "  =========                 |\n",
      "  \\\\      /  F ield         | OpenFOAM: The Open Source CFD Toolbox\n",
      "   \\\\    /   O peration     | Website:  https://openfoam.org\n",
      "    \\\\  /    A nd           | Version:  7\n",
      "     \\\\/     M anipulation  |\n",
      "\\*---------------------------------------------------------------------------*/\n",
      "FoamFile\n",
      "{\n",
      "    version     2.0;\n",
      "    format      ascii;\n",
      "    class       dictionary;\n",
      "    location    \"constant\";\n",
      "    object      transportProperties;\n",
      "}\n",
      "// * * * * * * * * * * * * * * * * * * * * * * * * * * * * * * * * * * * * * //\n",
      "\n",
      "transportModel  Newtonian;\n",
      "\n",
      "nu              [0 2 -1 0 0 0 0] 1e-05;\n",
      "\n",
      "// ************************************************************************* //\n",
      "\n"
     ]
    }
   ],
   "source": [
    "f = open(\"examples/pitzDaily/constant/transportProperties\", \"r\")\n",
    "file_contents = f.read()\n",
    "print(file_contents)"
   ]
  },
  {
   "cell_type": "markdown",
   "metadata": {},
   "source": [
    "For now, we will restriction our discussion to Newtonian flow. In this regard, there are two important parameters that need to be set in the `transportProperties` dictionary. They include:\n",
    "\n",
    "- `transportModel`: This parameter is used to specify if the flow is Newtonian or non-Newtonian. Some of the available models include: `Bird-Carreau`, `Cross power law`, `Power law`, `Herschel-Buckley`, `Casson` and `General strain-rate` function. We will explore the these other models in our advanced lecture series. \n",
    "\n",
    "\n",
    "- `nu`: The dynamic viscosity of the fluid. As we discussed in the previous section, we have also mentioned the units in SI. "
   ]
  },
  {
   "cell_type": "markdown",
   "metadata": {},
   "source": [
    "### `constant/turbulenceProperties`\n",
    "\n",
    "The second important dictionary in our `constant` folder is aimed at specifying the turbulence properties of the fluid. This includes specifying if the flow is laminar or turbulent. In the case, the flow is turbulent, the type of model to be used and related parameters. Let us first examine the file from our `pitzDaily` example."
   ]
  },
  {
   "cell_type": "code",
   "execution_count": 120,
   "metadata": {
    "scrolled": true
   },
   "outputs": [
    {
     "name": "stdout",
     "output_type": "stream",
     "text": [
      "/*--------------------------------*- C++ -*----------------------------------*\\\n",
      "  =========                 |\n",
      "  \\\\      /  F ield         | OpenFOAM: The Open Source CFD Toolbox\n",
      "   \\\\    /   O peration     | Website:  https://openfoam.org\n",
      "    \\\\  /    A nd           | Version:  7\n",
      "     \\\\/     M anipulation  |\n",
      "\\*---------------------------------------------------------------------------*/\n",
      "FoamFile\n",
      "{\n",
      "    version     2.0;\n",
      "    format      ascii;\n",
      "    class       dictionary;\n",
      "    location    \"constant\";\n",
      "    object      turbulenceProperties;\n",
      "}\n",
      "// * * * * * * * * * * * * * * * * * * * * * * * * * * * * * * * * * * * * * //\n",
      "\n",
      "simulationType RAS;\n",
      "\n",
      "RAS\n",
      "{\n",
      "    // Tested with kEpsilon, realizableKE, kOmega, kOmegaSST, v2f,\n",
      "    // ShihQuadraticKE, LienCubicKE.\n",
      "    RASModel        kEpsilon;\n",
      "\n",
      "    turbulence      on;\n",
      "\n",
      "    printCoeffs     on;\n",
      "}\n",
      "\n",
      "\n",
      "// ************************************************************************* //\n",
      "\n"
     ]
    }
   ],
   "source": [
    "f = open(\"examples/pitzDaily/constant/turbulenceProperties\", \"r\")\n",
    "file_contents = f.read()\n",
    "print(file_contents)"
   ]
  },
  {
   "cell_type": "markdown",
   "metadata": {},
   "source": [
    "One of the important aspects remain:\n",
    "\n",
    "- `simulationType`: This parameter is used to specify if the flow is laminar or turbulent. In case of turbulent flows, one can use Reynolds Averaged Navier Stokes (RANS) or Large Eddy Simulation (LES). We will the range of turbulent models and their effects in our intermediate lecture series. \n",
    "\n",
    "\n",
    "- `RASModel`: This options helps us to select one of the available turbulence models in OpenFOAM. Some of the available and popular turbulence models for RANS and LES include: `kEpsilon`, `kOmega`, `kOmegaSST`. Others include `realizableKE`, `v2f`, `ShihQuadraticKE`, `LienCubicKE`.\n",
    "\n",
    "\n",
    "- `turbulence`: This parameter is used to switch on and off the turbulence modeling. One natural question that arises here is the need for this on/off switch after one has chosen a RANS model. Later when we discuss the topic of turbulence modeling, we will see the reason for this setting. \n",
    "\n",
    "\n",
    "- `printCoeffs`: This switch lets the solver know if the model co-efficients need to be printed at the start of the computation. It is recommended to keep this on to have all the information in the Log file. "
   ]
  },
  {
   "cell_type": "markdown",
   "metadata": {},
   "source": [
    "<hr style=\"border:2px solid gray\"> </hr>"
   ]
  },
  {
   "cell_type": "markdown",
   "metadata": {},
   "source": [
    "## Step 4/8: OpenFOAM case files - `system` directory\n",
    "\n",
    "In this section, we will discuss the structure of the second important folder `system` and understand some of the important dictionary files that are provided through this folder."
   ]
  },
  {
   "cell_type": "code",
   "execution_count": 143,
   "metadata": {
    "scrolled": false
   },
   "outputs": [
    {
     "data": {
      "text/html": [
       "\n",
       "        <iframe\n",
       "            width=\"560\"\n",
       "            height=\"315\"\n",
       "            src=\"https://www.youtube.com/embed/iWqDeVvxXSc?rel=0&amp;controls=1&amp;showinfo=0\"\n",
       "            frameborder=\"0\"\n",
       "            allowfullscreen\n",
       "        ></iframe>\n",
       "        "
      ],
      "text/plain": [
       "<IPython.lib.display.IFrame at 0x7ff511bb3860>"
      ]
     },
     "metadata": {},
     "output_type": "display_data"
    }
   ],
   "source": [
    "## Explanation about the system dictionary (L02e)\n",
    "display(IFrame(('https://www.youtube.com/embed/iWqDeVvxXSc?rel=0&amp;controls=1&amp;showinfo=0'), width=560, height=315))"
   ]
  },
  {
   "cell_type": "markdown",
   "metadata": {},
   "source": [
    "The second important directory in the set of OpenFOAM dictionaries is the `system` directory. As earlier, let us try to first access it. There are four important files that are common to all problems. This includes:\n",
    "\n",
    "- `blockMeshDict`: This dictionary file is the file for specifying the mesh parameter. In our lecture 04 on the beginner series, we will be discussing this in detail.\n",
    "\n",
    "\n",
    "- `controlDict`: This dictionary file can be said to be the on of the critical controls for the simulation. The dictionary has all the control parameters like simulation times, time step sizes and so on.\n",
    "\n",
    "\n",
    "- `fvSchemes`: This dictionary controls how the OpenFOAM interprets the PDE and the numerical schemes for interpolation.\n",
    "\n",
    "\n",
    "- `fvSolution`: This file specifies the solvers that are used for solving the matrix equations that result from the discretization of the PDE. It is recommended to use an existing tutorial as a starting point for creating our fvSolution. We will come back to the fvSolution file in advanced tutorials."
   ]
  },
  {
   "cell_type": "code",
   "execution_count": 121,
   "metadata": {
    "scrolled": false
   },
   "outputs": [
    {
     "name": "stdout",
     "output_type": "stream",
     "text": [
      "blockMeshDict\n",
      "controlDict\n",
      "fvSchemes\n",
      "fvSolution\n",
      "streamlines\n"
     ]
    }
   ],
   "source": [
    "%%bash\n",
    "ls examples/pitzDaily/system"
   ]
  },
  {
   "cell_type": "markdown",
   "metadata": {},
   "source": [
    "### `system/controlDict`\n",
    "\n",
    "The second important dictionary in our `system` folder is aimed at specifying the simulation run parameters. This includes specifying when the simulation starts and ends, how long it runs, when it should output the simulation data and so on. Let us first examine the file from our `pitzDaily` example."
   ]
  },
  {
   "cell_type": "code",
   "execution_count": 144,
   "metadata": {
    "scrolled": false
   },
   "outputs": [
    {
     "data": {
      "text/html": [
       "\n",
       "        <iframe\n",
       "            width=\"560\"\n",
       "            height=\"315\"\n",
       "            src=\"https://www.youtube.com/embed/IcTUmPc7TRA?rel=0&amp;controls=1&amp;showinfo=0\"\n",
       "            frameborder=\"0\"\n",
       "            allowfullscreen\n",
       "        ></iframe>\n",
       "        "
      ],
      "text/plain": [
       "<IPython.lib.display.IFrame at 0x7ff511bb3860>"
      ]
     },
     "metadata": {},
     "output_type": "display_data"
    }
   ],
   "source": [
    "## Explanation about the controlDict in system dictionary (L02f)\n",
    "display(IFrame(('https://www.youtube.com/embed/IcTUmPc7TRA?rel=0&amp;controls=1&amp;showinfo=0'), width=560, height=315))"
   ]
  },
  {
   "cell_type": "code",
   "execution_count": 122,
   "metadata": {
    "scrolled": true
   },
   "outputs": [
    {
     "name": "stdout",
     "output_type": "stream",
     "text": [
      "/*--------------------------------*- C++ -*----------------------------------*\\\n",
      "  =========                 |\n",
      "  \\\\      /  F ield         | OpenFOAM: The Open Source CFD Toolbox\n",
      "   \\\\    /   O peration     | Website:  https://openfoam.org\n",
      "    \\\\  /    A nd           | Version:  7\n",
      "     \\\\/     M anipulation  |\n",
      "\\*---------------------------------------------------------------------------*/\n",
      "FoamFile\n",
      "{\n",
      "    version     2.0;\n",
      "    format      ascii;\n",
      "    class       dictionary;\n",
      "    location    \"system\";\n",
      "    object      controlDict;\n",
      "}\n",
      "// * * * * * * * * * * * * * * * * * * * * * * * * * * * * * * * * * * * * * //\n",
      "\n",
      "application     simpleFoam;\n",
      "\n",
      "startFrom       startTime;\n",
      "\n",
      "startTime       0;\n",
      "\n",
      "stopAt          endTime;\n",
      "\n",
      "endTime         2000;\n",
      "\n",
      "deltaT          1;\n",
      "\n",
      "writeControl    timeStep;\n",
      "\n",
      "writeInterval   100;\n",
      "\n",
      "purgeWrite      0;\n",
      "\n",
      "writeFormat     ascii;\n",
      "\n",
      "writePrecision  6;\n",
      "\n",
      "writeCompression off;\n",
      "\n",
      "timeFormat      general;\n",
      "\n",
      "timePrecision   6;\n",
      "\n",
      "runTimeModifiable true;\n",
      "\n",
      "functions\n",
      "{\n",
      "    #includeFunc streamlines\n",
      "}\n",
      "\n",
      "// ************************************************************************* //\n",
      "\n"
     ]
    }
   ],
   "source": [
    "f = open(\"examples/pitzDaily/system/controlDict\", \"r\")\n",
    "file_contents = f.read()\n",
    "print(file_contents)"
   ]
  },
  {
   "cell_type": "markdown",
   "metadata": {},
   "source": [
    "`controlDict` specifies all the parameters necessary to control the flow of the simulation. Let us first understand what these parameters are and which to modify\n",
    "\n",
    "- `application`: Refers to the solver to be used. We will discuss about solvers in the last section of this lecture\n",
    "\n",
    "\n",
    "- `startFrom`, `startTime`: Specifies the times at which the simulation is started. It can often happen that one is re-starting the simulation. In such a case, the `startFrom` can be different from the startTime. Other possible options for the `startFrom` includes: \n",
    "\n",
    "    - `firstTime`: This uses the earliest time step available from the set of time directories. We have not yet introduced the concept of time directories. Just like the \"0\" directory, OpenFOAM creates a directory for each timestep. This is all written to the case directory (or the main directory where all the primary three directories reside). We can use any of these to restart our simulation from the earliest time step diretory available.\n",
    "    \n",
    "    - `latestTime`: If one intends to restart the simulation at the last timestep where the simulation had stopped, this is the option to use. We will discuss this in detail in our advanced modules on restarting a simulation.\n",
    "\n",
    "\n",
    "- `stopAt`, `endTime`: Just as in the case of the start times for the simulations, these specify the time at which the simulation is stopped. In the case of re-starting a simulation, one can stop the simulation at a time earlier than the end time. Similar to `startFrom`, `stopAt` also has several other options that include:\n",
    "\n",
    "    - `writeNow`: This completes the current timestep, writes out the data and stops the simulation\n",
    "    \n",
    "    - `noWriteNow`: Similar to `writeNow`, this runs the current timestep and stops the simulation. here no data is written out. This can often be used to check if a simulation setup runs. \n",
    "    \n",
    "    - `nextWrite`: Runs upto one set of outputs have been written. As we will see below, the outputs are written once every n-steps. So this will ensure that the simulations runs for these n-steps only. This option, again, is suitable to test the setup of a simulation run.\n",
    "\n",
    "\n",
    "- `deltaT`: This refers to the timestep to be used in the simulation. This is often a small number of the order of $10^{-3}$ or less. However, one needs ot be careful as this can vary depending on the type of problem at hand.\n",
    "\n",
    "\n",
    "- `writeInterval`: This is a scalar value that defines how often the outputs of the OpenFOAM are written. See the `writeControl` below for more information.\n",
    "\n",
    "\n",
    "- `writeControl`: The OpenFOAM outputs the velocities, pressure and other quantities of interest (like turbulence parameters etc.). However, if one were to save them into files at every timestep, this would result in very large folders. Thus, it is more prudent to output them into files at every n-timesteps rather than at each timestep. This parameter helps control the intervals at which they are written. The possible options include:\n",
    "\n",
    "    - `timeStep`: Tells OpenFOAM to write out data at every **writeInterval** time steps\n",
    "    \n",
    "    - `runTime`: This setting tells OpenFOAM to write data after every **writeInterval** seconds of simulated time.\n",
    "    \n",
    "    - `adjustableRunTime`: This is often used in conjunction with the automatic time step adjustment. This option facilitates that the data is written out at every **writeInterval** of simulated time and further adjusts that the time steps coincide with the **writeInterval**\n",
    "    \n",
    "    - `cpuTime`: Writes data every **writeInterval** seconds of CPU time\n",
    "    \n",
    "    - `clockTime`: Writes data for every **writeInterval** seconds of real time\n",
    "    \n",
    "    \n",
    "- `writePrecision` and `writeFormat`: The output files are written in `ascii` format with a precision given in `writeFormat`. Alternatively, one can also output the files in `binary` format. The choice between binary vs. ascii is dependent on various aspects like file size, precision used in the numbers printed out, interoperability between programs and so on. In general, *ascii* is used by default.\n",
    "\n",
    "\n",
    "- `writeCompression`: This is an important option to keep in mind. The files produced by OpenFOAM can be very large, depending on the size of the problem. Using *on*, these files are compressed with `gzip`.\n",
    "\n",
    "\n",
    "- `timeFormat` and `timePrecision`: The folders produced are named based on the timestep. These parameters control the formats and precision\n",
    "\n",
    "\n",
    "- `runTimeModifiable`: This allows re-reading of the dictionaries (like `controlDict` etc.) at the beginning of each timestep. Thus, this allows one to modify the parameters during the course of a simulation."
   ]
  },
  {
   "cell_type": "markdown",
   "metadata": {},
   "source": [
    "### Exercise 2.3\n",
    "\n",
    "- Run the simulation for only one time step without writing the data\n",
    "- Run the simulation for only one time step and write ascii files\n",
    "\n",
    "*Clue:*\n",
    "\n",
    "- Start the Agave client\n",
    "- Set up the job details\n",
    "- Submit the job to TACC"
   ]
  },
  {
   "cell_type": "code",
   "execution_count": null,
   "metadata": {
    "scrolled": true
   },
   "outputs": [],
   "source": [
    "# Start the Agave Client (Check out Lesson 01)\n"
   ]
  },
  {
   "cell_type": "code",
   "execution_count": null,
   "metadata": {
    "scrolled": true
   },
   "outputs": [],
   "source": [
    "# Copy the example files to a new folder in your DesignSafe data Depot (Check out Lesson 01)\n"
   ]
  },
  {
   "cell_type": "code",
   "execution_count": null,
   "metadata": {
    "scrolled": true
   },
   "outputs": [],
   "source": [
    "# Setup the job details (Check out Lesson 01)\n"
   ]
  },
  {
   "cell_type": "code",
   "execution_count": null,
   "metadata": {
    "scrolled": true
   },
   "outputs": [],
   "source": [
    "# Submit the job to Stampeded2 on TACC (Check out Lesson 01)\n"
   ]
  },
  {
   "cell_type": "markdown",
   "metadata": {},
   "source": [
    "### `system/fvSchemes`\n",
    "\n",
    "Another important dictionary in our `system` folder is aimed at specifying the discretization schemes used in OpenFOAM. The `fvSchemes` dictionary sets the numerical schemes for terms, such as temporal and spatial derivatives in the Navier-Stokes equations. This offers an unrestricted choice for the user to choose their own choice of discretization using the standard Gaussian finite volume integration. The \n",
    "\n",
    "As a beginner, it is recommended to choose the choice using examples available in the OpenFOAM package rather than directly modifying the `fvSchemes` dictionary. The terms that require a numerical scheme to be specified are divided into particular categories and explained below. We will explore this in more detail in our advanced tutorials."
   ]
  },
  {
   "cell_type": "code",
   "execution_count": 145,
   "metadata": {
    "scrolled": false
   },
   "outputs": [
    {
     "data": {
      "text/html": [
       "\n",
       "        <iframe\n",
       "            width=\"560\"\n",
       "            height=\"315\"\n",
       "            src=\"https://www.youtube.com/embed/I5GeogVTPao?rel=0&amp;controls=1&amp;showinfo=0\"\n",
       "            frameborder=\"0\"\n",
       "            allowfullscreen\n",
       "        ></iframe>\n",
       "        "
      ],
      "text/plain": [
       "<IPython.lib.display.IFrame at 0x7ff511bb3860>"
      ]
     },
     "metadata": {},
     "output_type": "display_data"
    }
   ],
   "source": [
    "## Explanation about the controlDict in fvSchemes dictionary (L02g)\n",
    "display(IFrame(('https://www.youtube.com/embed/I5GeogVTPao?rel=0&amp;controls=1&amp;showinfo=0'), width=560, height=315))"
   ]
  },
  {
   "cell_type": "code",
   "execution_count": 123,
   "metadata": {
    "scrolled": true
   },
   "outputs": [
    {
     "name": "stdout",
     "output_type": "stream",
     "text": [
      "/*--------------------------------*- C++ -*----------------------------------*\\\n",
      "  =========                 |\n",
      "  \\\\      /  F ield         | OpenFOAM: The Open Source CFD Toolbox\n",
      "   \\\\    /   O peration     | Website:  https://openfoam.org\n",
      "    \\\\  /    A nd           | Version:  7\n",
      "     \\\\/     M anipulation  |\n",
      "\\*---------------------------------------------------------------------------*/\n",
      "FoamFile\n",
      "{\n",
      "    version     2.0;\n",
      "    format      ascii;\n",
      "    class       dictionary;\n",
      "    location    \"system\";\n",
      "    object      fvSchemes;\n",
      "}\n",
      "// * * * * * * * * * * * * * * * * * * * * * * * * * * * * * * * * * * * * * //\n",
      "\n",
      "ddtSchemes\n",
      "{\n",
      "    default         steadyState;\n",
      "}\n",
      "\n",
      "gradSchemes\n",
      "{\n",
      "    default         Gauss linear;\n",
      "}\n",
      "\n",
      "divSchemes\n",
      "{\n",
      "    default         none;\n",
      "    div(phi,U)      bounded Gauss linearUpwind grad(U);\n",
      "    div(phi,k)      bounded Gauss limitedLinear 1;\n",
      "    div(phi,epsilon) bounded Gauss limitedLinear 1;\n",
      "    div(phi,omega)  bounded Gauss limitedLinear 1;\n",
      "    div(phi,v2)     bounded Gauss limitedLinear 1;\n",
      "    div((nuEff*dev2(T(grad(U))))) Gauss linear;\n",
      "    div(nonlinearStress) Gauss linear;\n",
      "}\n",
      "\n",
      "laplacianSchemes\n",
      "{\n",
      "    default         Gauss linear corrected;\n",
      "}\n",
      "\n",
      "interpolationSchemes\n",
      "{\n",
      "    default         linear;\n",
      "}\n",
      "\n",
      "snGradSchemes\n",
      "{\n",
      "    default         corrected;\n",
      "}\n",
      "\n",
      "wallDist\n",
      "{\n",
      "    method meshWave;\n",
      "}\n",
      "\n",
      "\n",
      "// ************************************************************************* //\n",
      "\n"
     ]
    }
   ],
   "source": [
    "## Before moving ahead, let us open and see our fvSchemes dictionary\n",
    "f = open(\"examples/pitzDaily/system/fvSchemes\", \"r\")\n",
    "file_contents = f.read()\n",
    "print(file_contents)"
   ]
  },
  {
   "cell_type": "markdown",
   "metadata": {},
   "source": [
    "The schemes involved are:\n",
    "\n",
    "- `ddtScheme`s: This involves the time derivatives, i.e. $\\frac{\\partial}{\\partial t}$, $\\frac{\\partial^2}{\\partial t^2}$. For example, here *steadyState* means that the time derivatives are zero. OpenFOAM can solve both transient or steady-state problems. Changing the time scheme from one which is steady-state to transient, or visa-versa, does not affect the fundamental nature of the solver and so fails to achieve its purpose, yielding a non-sensical solution. Any second time derivative $\\left(\\frac{\\partial^2}{\\partial t^2}\\right)$ terms are specified in the d2dt2Schemes sub-dictionary. Only the Euler scheme is available for d2dt2Schemes.\n",
    "\n",
    "\n",
    "- `gradSchemes`: The gradient terms given as $\\nabla$. Here, The *Gauss* entry specifies usage of the standard finite volume discretisation of Gaussian integration. This requires the interpolation of values from cell centres to the face centres. The `linear` entry corresponds to the linear interpolation scheme used.\n",
    "\n",
    "\n",
    "- `divSchemes`: The divergence terms given as $\\nabla \\cdot$. This primarily involves the advection and diffusion terms in the Navier-Stokes equation. We will discuss the schemes used in more detail in the advanced lectures.\n",
    "\n",
    "\n",
    "- `laplacianSchemes`: The Laplacian terms given as $\\nabla^2$. This corresponds to the diffusion term $\\nabla \\cdot \\left( \\nu \\nabla u \\right)$. Again, here a Gauss linear scheme with correction is used. In general, the interpolation works well when the face normal of a cell is along the direction of flow. When the cells are slightly skewed, this leads to significant inaccuracy in the solution. Thus, corrections are employed to ensure that the \n",
    "\n",
    "\n",
    "- `interpolationSchemes`: This provides the method for interpolation of the values from cell centers to face centers."
   ]
  },
  {
   "cell_type": "markdown",
   "metadata": {},
   "source": [
    "### Exercise 2.4\n",
    "\n",
    "- What are the terms from Navier-Stokes equation that will be listed under *gradSchemes* and *divSchemes*?"
   ]
  },
  {
   "cell_type": "code",
   "execution_count": null,
   "metadata": {},
   "outputs": [],
   "source": []
  },
  {
   "cell_type": "markdown",
   "metadata": {},
   "source": [
    "<hr style=\"border:2px solid gray\"> </hr>"
   ]
  },
  {
   "cell_type": "markdown",
   "metadata": {},
   "source": [
    "## Step 5/8: OpenFOAM case files - `0` directory\n",
    "\n",
    "In this section, we will discuss the structure of the folder `0`. A more detailed discussion on the same will be provided in the next lecture on initial and boundary conditions. Let us start with listing the files in the folder."
   ]
  },
  {
   "cell_type": "code",
   "execution_count": 146,
   "metadata": {
    "scrolled": false
   },
   "outputs": [
    {
     "data": {
      "text/html": [
       "\n",
       "        <iframe\n",
       "            width=\"560\"\n",
       "            height=\"315\"\n",
       "            src=\"https://www.youtube.com/embed/2xwvSr67RHU?rel=0&amp;controls=1&amp;showinfo=0\"\n",
       "            frameborder=\"0\"\n",
       "            allowfullscreen\n",
       "        ></iframe>\n",
       "        "
      ],
      "text/plain": [
       "<IPython.lib.display.IFrame at 0x7ff511bb3550>"
      ]
     },
     "metadata": {},
     "output_type": "display_data"
    }
   ],
   "source": [
    "## Explanation about the 0 dictionary (L02h)\n",
    "display(IFrame(('https://www.youtube.com/embed/2xwvSr67RHU?rel=0&amp;controls=1&amp;showinfo=0'), width=560, height=315))"
   ]
  },
  {
   "cell_type": "code",
   "execution_count": 124,
   "metadata": {},
   "outputs": [
    {
     "name": "stdout",
     "output_type": "stream",
     "text": [
      "epsilon\n",
      "f\n",
      "k\n",
      "nut\n",
      "nuTilda\n",
      "omega\n",
      "p\n",
      "U\n",
      "v2\n"
     ]
    }
   ],
   "source": [
    "%%bash\n",
    "ls examples/pitzDaily/0"
   ]
  },
  {
   "cell_type": "markdown",
   "metadata": {},
   "source": [
    "Let us examine the sub-dictionary `U`. All the other sub-dictionaries follow a similar structure and concepts."
   ]
  },
  {
   "cell_type": "code",
   "execution_count": 136,
   "metadata": {
    "scrolled": true
   },
   "outputs": [
    {
     "name": "stdout",
     "output_type": "stream",
     "text": [
      "/*--------------------------------*- C++ -*----------------------------------*\\\n",
      "  =========                 |\n",
      "  \\\\      /  F ield         | OpenFOAM: The Open Source CFD Toolbox\n",
      "   \\\\    /   O peration     | Website:  https://openfoam.org\n",
      "    \\\\  /    A nd           | Version:  7\n",
      "     \\\\/     M anipulation  |\n",
      "\\*---------------------------------------------------------------------------*/\n",
      "FoamFile\n",
      "{\n",
      "    version     2.0;\n",
      "    format      ascii;\n",
      "    class       volScalarField;\n",
      "    location    \"0\";\n",
      "    object      v2;\n",
      "}\n",
      "// * * * * * * * * * * * * * * * * * * * * * * * * * * * * * * * * * * * * * //\n",
      "\n",
      "dimensions      [0 2 -2 0 0 0 0];\n",
      "\n",
      "internalField   uniform 0.25;\n",
      "\n",
      "boundaryField\n",
      "{\n",
      "    inlet\n",
      "    {\n",
      "        type            fixedValue;\n",
      "        value           $internalField;\n",
      "    }\n",
      "    outlet\n",
      "    {\n",
      "        type            zeroGradient;\n",
      "    }\n",
      "    upperWall\n",
      "    {\n",
      "        type            v2WallFunction;\n",
      "        value           $internalField;\n",
      "    }\n",
      "    lowerWall\n",
      "    {\n",
      "        type            v2WallFunction;\n",
      "        value           $internalField;\n",
      "    }\n",
      "    frontAndBack\n",
      "    {\n",
      "        type            empty;\n",
      "    }\n",
      "}\n",
      "\n",
      "\n",
      "// ************************************************************************* //\n",
      "\n"
     ]
    }
   ],
   "source": [
    "## Before moving ahead, let us open and see our fvSchemes dictionary\n",
    "f = open(\"examples/pitzDaily/0/U\", \"r\")\n",
    "file_contents = f.read()\n",
    "print(file_contents)"
   ]
  },
  {
   "cell_type": "markdown",
   "metadata": {},
   "source": [
    "As we have seen earlier, the dimensions is given representing the quantity. Here, we are looking at velocity with units $ms^{-1}$. As we will see later in Lecture 3 and 4, the external faces of the CFD model/mesh is identified as `patch` and each patch can be assigned a name. Each of these patches are assigned with initial and boundary conditions using the sub-dictionaries in the 0-dictionary. The common sub-directories are `U` (velocity), `p` (pressure), `nut / nuTilda / p / epsilon` (turbulence parameters) and so on.\n",
    "\n",
    "For example: Here, above, we are looking at the `0/U` sub-dictionary. It says that the `inlet` patch has a `fixedValue` boundary condition. This implies that the flow has a uniform velocity across this boundary. We will discuss the boundary conditions in detail in the next Lecture. "
   ]
  },
  {
   "cell_type": "code",
   "execution_count": 131,
   "metadata": {
    "scrolled": true
   },
   "outputs": [
    {
     "name": "stdout",
     "output_type": "stream",
     "text": [
      "/*--------------------------------*- C++ -*----------------------------------*\\\n",
      "  =========                 |\n",
      "  \\\\      /  F ield         | OpenFOAM: The Open Source CFD Toolbox\n",
      "   \\\\    /   O peration     | Website:  https://openfoam.org\n",
      "    \\\\  /    A nd           | Version:  7\n",
      "     \\\\/     M anipulation  |\n",
      "\\*---------------------------------------------------------------------------*/\n",
      "FoamFile\n",
      "{\n",
      "    version     2.0;\n",
      "    format      ascii;\n",
      "    class       dictionary;\n",
      "    object      blockMeshDict;\n",
      "}\n",
      "// * * * * * * * * * * * * * * * * * * * * * * * * * * * * * * * * * * * * * //\n",
      "\n",
      "convertToMeters 0.001;\n",
      "\n",
      "vertices\n",
      "(\n",
      "    (-20.6 0 -0.5)\n",
      "    (-20.6 25.4 -0.5)\n",
      "    (0 -25.4 -0.5)\n",
      "    (0 0 -0.5)\n",
      "    (0 25.4 -0.5)\n",
      "    (206 -25.4 -0.5)\n",
      "    (206 0 -0.5)\n",
      "    (206 25.4 -0.5)\n",
      "    (290 -16.6 -0.5)\n",
      "    (290 0 -0.5)\n",
      "    (290 16.6 -0.5)\n",
      "\n",
      "    (-20.6 0 0.5)\n",
      "    (-20.6 25.4 0.5)\n",
      "    (0 -25.4 0.5)\n",
      "    (0 0 0.5)\n",
      "    (0 25.4 0.5)\n",
      "    (206 -25.4 0.5)\n",
      "    (206 0 0.5)\n",
      "    (206 25.4 0.5)\n",
      "    (290 -16.6 0.5)\n",
      "    (290 0 0.5)\n",
      "    (290 16.6 0.5)\n",
      ");\n",
      "\n",
      "negY\n",
      "(\n",
      "    (2 4 1)\n",
      "    (1 3 0.3)\n",
      ");\n",
      "\n",
      "posY\n",
      "(\n",
      "    (1 4 2)\n",
      "    (2 3 4)\n",
      "    (2 4 0.25)\n",
      ");\n",
      "\n",
      "posYR\n",
      "(\n",
      "    (2 1 1)\n",
      "    (1 1 0.25)\n",
      ");\n",
      "\n",
      "\n",
      "blocks\n",
      "(\n",
      "    hex (0 3 4 1 11 14 15 12)\n",
      "    (18 30 1)\n",
      "    simpleGrading (0.5 $posY 1)\n",
      "\n",
      "    hex (2 5 6 3 13 16 17 14)\n",
      "    (180 27 1)\n",
      "    edgeGrading (4 4 4 4 $negY 1 1 $negY 1 1 1 1)\n",
      "\n",
      "    hex (3 6 7 4 14 17 18 15)\n",
      "    (180 30 1)\n",
      "    edgeGrading (4 4 4 4 $posY $posYR $posYR $posY 1 1 1 1)\n",
      "\n",
      "    hex (5 8 9 6 16 19 20 17)\n",
      "    (25 27 1)\n",
      "    simpleGrading (2.5 1 1)\n",
      "\n",
      "    hex (6 9 10 7 17 20 21 18)\n",
      "    (25 30 1)\n",
      "    simpleGrading (2.5 $posYR 1)\n",
      ");\n",
      "\n",
      "edges\n",
      "(\n",
      ");\n",
      "\n",
      "boundary\n",
      "(\n",
      "    inlet\n",
      "    {\n",
      "        type patch;\n",
      "        faces\n",
      "        (\n",
      "            (0 1 12 11)\n",
      "        );\n",
      "    }\n",
      "    outlet\n",
      "    {\n",
      "        type patch;\n",
      "        faces\n",
      "        (\n",
      "            (8 9 20 19)\n",
      "            (9 10 21 20)\n",
      "        );\n",
      "    }\n",
      "    upperWall\n",
      "    {\n",
      "        type wall;\n",
      "        faces\n",
      "        (\n",
      "            (1 4 15 12)\n",
      "            (4 7 18 15)\n",
      "            (7 10 21 18)\n",
      "        );\n",
      "    }\n",
      "    lowerWall\n",
      "    {\n",
      "        type wall;\n",
      "        faces\n",
      "        (\n",
      "            (0 3 14 11)\n",
      "            (3 2 13 14)\n",
      "            (2 5 16 13)\n",
      "            (5 8 19 16)\n",
      "        );\n",
      "    }\n",
      "    frontAndBack\n",
      "    {\n",
      "        type empty;\n",
      "        faces\n",
      "        (\n",
      "            (0 3 4 1)\n",
      "            (2 5 6 3)\n",
      "            (3 6 7 4)\n",
      "            (5 8 9 6)\n",
      "            (6 9 10 7)\n",
      "            (11 14 15 12)\n",
      "            (13 16 17 14)\n",
      "            (14 17 18 15)\n",
      "            (16 19 20 17)\n",
      "            (17 20 21 18)\n",
      "        );\n",
      "    }\n",
      ");\n",
      "\n",
      "// ************************************************************************* //\n",
      "\n"
     ]
    }
   ],
   "source": [
    "## Before moving ahead, let us open and see our fvSchemes dictionary\n",
    "f = open(\"examples/pitzDaily/system/blockMeshDict\", \"r\")\n",
    "file_contents = f.read()\n",
    "print(file_contents)"
   ]
  },
  {
   "cell_type": "markdown",
   "metadata": {},
   "source": [
    "<hr style=\"border:2px solid gray\"> </hr>"
   ]
  },
  {
   "cell_type": "markdown",
   "metadata": {},
   "source": [
    "## Step 6/8: Solvers in OpenFOAM\n",
    "\n",
    "While the word solvers is used often and interchangeably in the context of OpenFOAM literature, it should be noted here that we are talking here about a workflow that has been designed to solve a specific genre of problem in computational continuum mechanics. OpenFOAM does not have a generic solver applicable to all types of problems. Instead, users must choose a specific solver for a class of problems to solve. There are flow Solvers as well as non-flow (other) solvers present in the package. The flow solvers include:\n",
    "\n",
    "- Basic\n",
    "- Incompressible\n",
    "- Compressible\n",
    "- Heat transfer\n",
    "- Multiphase\n",
    "- Lagrangian particles\n",
    "- Discrete methods\n",
    "- Combustion\n",
    "- DNS\n",
    "\n",
    "The non-flow solver includes, those applicable for\n",
    "\n",
    "- Electromagnetics\n",
    "- Financial modeling\n",
    "- Stress analysis"
   ]
  },
  {
   "cell_type": "code",
   "execution_count": 147,
   "metadata": {
    "scrolled": false
   },
   "outputs": [
    {
     "data": {
      "text/html": [
       "\n",
       "        <iframe\n",
       "            width=\"560\"\n",
       "            height=\"315\"\n",
       "            src=\"https://www.youtube.com/embed/RUC6MnSFwCc?rel=0&amp;controls=1&amp;showinfo=0\"\n",
       "            frameborder=\"0\"\n",
       "            allowfullscreen\n",
       "        ></iframe>\n",
       "        "
      ],
      "text/plain": [
       "<IPython.lib.display.IFrame at 0x7ff511bb3550>"
      ]
     },
     "metadata": {},
     "output_type": "display_data"
    }
   ],
   "source": [
    "## Explanation about the solvers in OpenFOAM (L02i)\n",
    "display(IFrame(('https://www.youtube.com/embed/RUC6MnSFwCc?rel=0&amp;controls=1&amp;showinfo=0'), width=560, height=315))"
   ]
  },
  {
   "cell_type": "markdown",
   "metadata": {},
   "source": [
    "We can divide the primary solvers available in OpenFOAM into three primary categories:\n",
    "\n",
    "- **Basic solvers:** laplacianFoam, potentialFoam, scalarTransportFoam\n",
    "\n",
    "\n",
    "- **Incompressible flow solvers:** boundaryFoam, icoFoam, pimpleFoam, pisoFoam, simpleFoam\n",
    "\n",
    "\n",
    "- **Compressibile flow solver:** sonicFlow, rhoPimpleFoam and rhoSimpleFoam"
   ]
  },
  {
   "cell_type": "markdown",
   "metadata": {},
   "source": [
    "<hr style=\"border:2px solid gray\"> </hr>"
   ]
  },
  {
   "cell_type": "markdown",
   "metadata": {},
   "source": [
    "## Step 7/8: Why use a particular solver? Lid-driven cavity example"
   ]
  },
  {
   "cell_type": "markdown",
   "metadata": {},
   "source": [
    "Let us consider the case of Lid-driven cavity involving isothermal, incompressible flow in a two-dimensional square domain. The geometry is shown below.\n",
    "\n",
    "![Setup of the lid driven cavity flow](https://nheri-simcenter.github.io/CFD-Notebooks/CFDN_images/LidDriven.png)\n",
    "\n",
    "All the boundaries of the square are considered as walls. The top wall moves in the x-direction at a speed of 1 $ms^{-1}$ while the other 3 are stationary. Initially, the flow will be assumed laminar and will be solved on a uniform mesh using the `icoFoam` solver for laminar, isothermal, incompressible flow.\n",
    "\n",
    "In comparison, `pisoFoam` solver will also be used for turbulent, isothermal, incompressible flow. The two results are compared to see the differences."
   ]
  },
  {
   "cell_type": "code",
   "execution_count": 148,
   "metadata": {
    "scrolled": false
   },
   "outputs": [
    {
     "data": {
      "text/html": [
       "\n",
       "        <iframe\n",
       "            width=\"560\"\n",
       "            height=\"315\"\n",
       "            src=\"https://www.youtube.com/embed/BSIBZ7Nej7I?rel=0&amp;controls=1&amp;showinfo=0\"\n",
       "            frameborder=\"0\"\n",
       "            allowfullscreen\n",
       "        ></iframe>\n",
       "        "
      ],
      "text/plain": [
       "<IPython.lib.display.IFrame at 0x7ff511bb3550>"
      ]
     },
     "metadata": {},
     "output_type": "display_data"
    }
   ],
   "source": [
    "## Explanation about the example (L02j)\n",
    "display(IFrame(('https://www.youtube.com/embed/BSIBZ7Nej7I?rel=0&amp;controls=1&amp;showinfo=0'), width=560, height=315))"
   ]
  },
  {
   "cell_type": "markdown",
   "metadata": {},
   "source": [
    "Let us start by setting up the job to run it with icoFoam.  We need to run two jobs at the lid velocity of 1 and 100 m/s."
   ]
  },
  {
   "cell_type": "code",
   "execution_count": null,
   "metadata": {
    "scrolled": false
   },
   "outputs": [],
   "source": [
    "from agavepy.agave import Agave\n",
    "ag = Agave.restore()\n",
    "ag.profiles.get()\n",
    "app = ag.apps.get(appId = 'openfoam-7.0u3')\n",
    "jobdetails = {\n",
    "\t\"name\": \"OpenFOAM-Demo\",\n",
    "\t\"appId\": \"openfoam-7.0u3\",\n",
    "\t\"maxRunTime\": \"00:05:00\",\n",
    "\t\"nodeCount\": 1,\n",
    "\t\"processorsPerNode\": 1,\n",
    "\t\"archive\": True,\n",
    "\t\"archiveSystem\": \"designsafe.storage.default\",\n",
    "\t\"parameters\": {\n",
    "        \"mesh\": \"On\",\n",
    "        \"decomp\": \"Off\",\n",
    "        \"solver\": \"icoFoam\"\n",
    "    },\n",
    "\t\"inputs\": {\n",
    "\t\t\"inputDirectory\": \"agave://designsafe.storage.published//PRJ-2915/examples/vacity\"\n",
    "\t\t}\n",
    "}\n",
    "job = ag.jobs.submit(body=jobdetails)"
   ]
  },
  {
   "cell_type": "markdown",
   "metadata": {},
   "source": [
    "You can check the status of the icoFoam job."
   ]
  },
  {
   "cell_type": "code",
   "execution_count": null,
   "metadata": {
    "scrolled": false
   },
   "outputs": [],
   "source": [
    "from agavepy.async import AgaveAsyncResponse\n",
    "asrp = AgaveAsyncResponse(ag,job)\n",
    "asrp.status"
   ]
  },
  {
   "cell_type": "markdown",
   "metadata": {},
   "source": [
    "Let us now also run the job using pisoFoam. We need to run two jobs at the lid velocity of 1 and 100 m/s."
   ]
  },
  {
   "cell_type": "code",
   "execution_count": null,
   "metadata": {
    "scrolled": true
   },
   "outputs": [],
   "source": [
    "from agavepy.agave import Agave\n",
    "ag = Agave.restore()\n",
    "ag.profiles.get()\n",
    "app = ag.apps.get(appId = 'openfoam-7.0u3')\n",
    "jobdetails = {\n",
    "\t\"name\": \"OpenFOAM-Demo\",\n",
    "\t\"appId\": \"openfoam-7.0u1\",\n",
    "\t\"maxRunTime\": \"00:05:00\",\n",
    "\t\"nodeCount\": 1,\n",
    "\t\"processorsPerNode\": 1,\n",
    "\t\"archive\": True,\n",
    "\t\"archiveSystem\": \"designsafe.storage.default\",\n",
    "\t\"parameters\": {\n",
    "        \"mesh\": \"On\",\n",
    "        \"decomp\": \"Off\",\n",
    "        \"solver\": \"pisoFoam\"\n",
    "    },\n",
    "\t\"inputs\": {\n",
    "\t\t\"inputDirectory\": \"agave://designsafe.storage.published//PRJ-2915/examples/vacity\"\n",
    "\t\t}\n",
    "}\n",
    "job = ag.jobs.submit(body=jobdetails)"
   ]
  },
  {
   "cell_type": "markdown",
   "metadata": {},
   "source": [
    "You can check the status of the icoFoam job."
   ]
  },
  {
   "cell_type": "code",
   "execution_count": null,
   "metadata": {
    "scrolled": false
   },
   "outputs": [],
   "source": [
    "from agavepy.async import AgaveAsyncResponse\n",
    "asrp = AgaveAsyncResponse(ag,job)\n",
    "asrp.status"
   ]
  },
  {
   "cell_type": "markdown",
   "metadata": {},
   "source": [
    "### Comparison between `icoFoam` and `pisoFoam`\n",
    "\n",
    "In the first case, we will consider the velocity of lid at lower velocities (here, 1 m/s) and the results are as shown below. Here, we can see that the laminar solvers (`icoFoam`) behave exactly like the turbulent solvers (`pisoFoam`). \n",
    "\n",
    "![isoFoam vs. pisoFoam at low velocities](https://nheri-simcenter.github.io/CFD-Notebooks/CFDN_images/IcoPiso_Low.jpg)\n",
    "\n",
    "Although, to observe the difference between the two solvers, in the second case, we consider the lid velocity to be higher 100 m/s. Again here, they are simulated with both `icoFoam` and `pisoFoam`. \n",
    "\n",
    "![Setup of the lid driven cavity flow](https://nheri-simcenter.github.io/CFD-Notebooks/CFDN_images/IcoPiso_High.jpeg)\n",
    "\n",
    "In both the above two cases, the results are captured in the form of vector gylphs of velocity as seen in the above figures. We can observe from the above figure that there is a clear difference between the two glyph plots. The *pisoFoam* results show an intermixing of fluid, which is possibly due to a vortex formation at higher velocities which could not be captured by the laminar `icoFoam` solver. Hence, to obtain the true picture and accurate results, high velocity flows are suggested to be solved using turbulent solvers like `pisoFoam`."
   ]
  },
  {
   "cell_type": "markdown",
   "metadata": {},
   "source": [
    "<hr style=\"border:2px solid gray\"> </hr>"
   ]
  },
  {
   "cell_type": "markdown",
   "metadata": {},
   "source": [
    "## Step 8/8: Recap and next step"
   ]
  },
  {
   "cell_type": "code",
   "execution_count": 149,
   "metadata": {
    "scrolled": false
   },
   "outputs": [
    {
     "data": {
      "text/html": [
       "\n",
       "        <iframe\n",
       "            width=\"560\"\n",
       "            height=\"315\"\n",
       "            src=\"https://www.youtube.com/embed/YHBocZC82Fc?rel=0&amp;controls=1&amp;showinfo=0\"\n",
       "            frameborder=\"0\"\n",
       "            allowfullscreen\n",
       "        ></iframe>\n",
       "        "
      ],
      "text/plain": [
       "<IPython.lib.display.IFrame at 0x7ff511bb3550>"
      ]
     },
     "metadata": {},
     "output_type": "display_data"
    }
   ],
   "source": [
    "## Recap and next steps (L02k)\n",
    "display(IFrame(('https://www.youtube.com/embed/YHBocZC82Fc?rel=0&amp;controls=1&amp;showinfo=0'), width=560, height=315))"
   ]
  },
  {
   "cell_type": "markdown",
   "metadata": {},
   "source": [
    "# References\n",
    "\n",
    "1. CFD-Notebooks documentation [(Link)](https://nheri-simcenter.github.io/CFD-Notebooks)\n",
    "2. OpenFOAM Wiki [(Link)](https://openfoamwiki.net/index.php/Main_Page)\n",
    "3. Official OpenFOAM documentation [(Link)](https://openfoam.org/resources)\n",
    "4. Documentation from CFD Direct [(Link)](https://cfd.direct/openfoam/documentation)"
   ]
  }
 ],
 "metadata": {
  "kernelspec": {
   "display_name": "Python 3",
   "language": "python",
   "name": "python3"
  },
  "language_info": {
   "codemirror_mode": {
    "name": "ipython",
    "version": 3
   },
   "file_extension": ".py",
   "mimetype": "text/x-python",
   "name": "python",
   "nbconvert_exporter": "python",
   "pygments_lexer": "ipython3",
   "version": "3.6.8"
  }
 },
 "nbformat": 4,
 "nbformat_minor": 2
}
