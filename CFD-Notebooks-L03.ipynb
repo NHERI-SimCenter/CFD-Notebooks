{
 "cells": [
  {
   "cell_type": "markdown",
   "metadata": {},
   "source": [
    "# Lecture 03: Boundary conditions in OpenFOAM"
   ]
  },
  {
   "cell_type": "markdown",
   "metadata": {},
   "source": [
    "<hr style=\"border:2px solid gray\"> </hr>"
   ]
  },
  {
   "cell_type": "markdown",
   "metadata": {},
   "source": [
    "## Authors\n",
    "\n",
    "Ajay B Harish$^+$, Sanjay Govindjee and Frank McKenna <br>\n",
    "*SimCenter, University of California, Berkeley* <br>\n",
    "\n",
    "$^+$**Corresponding author** <br>\n",
    "*Web:* www.ajaybharish.com <br>\n",
    "*Email:* ajaybh@berkeley.edu <br>\n",
    "\n",
    "## How to cite\n",
    "Harish, Ajay Bangalore; Govindjee, Sanjay; McKenna, Frank (2020) “CFD Notebooks (Beginner).” DesignSafe-CI. https://doi.org/10.17603/ds2-w2x6-nm09.\n",
    "\n",
    "\n",
    "## Copyright\n",
    "\n",
    "The CFD Notebooks are developed by the NHERI <a href=\"http://simcenter.designsafe-ci.org\">SimCenter</a>. It is copyrighted to “The Regents of the University of California” and is licensed under the BSD 2-clause license. For more information, please check our webpage for information on <a href=\"https://nheri-simcenter.github.io/CFD-Notebooks/geninfo/copyright.html\">licensing and distribution</a>."
   ]
  },
  {
   "cell_type": "markdown",
   "metadata": {},
   "source": [
    "## Goal of this lecture\n",
    "\n",
    "- What is the boundary conditions in OpenFOAM?\n",
    "- How do I specify the boundary conditions in OpenFOAM?\n",
    "- Basic boundary conditions in OpenFOAM\n",
    "- Can boundary conditions vary with time?\n",
    "- **Estimated time for completion:** 30-60 minutes\n",
    "\n",
    "For any queries, write to us on our <a href=\"http://simcenter-messageboard.designsafe-ci.org/smf/index.php?board=11.0\">message board</a>.\n",
    "\n",
    "<b>If you would like our feedback, you can post your solutions for the exercises to the <a href=\"http://simcenter-messageboard.designsafe-ci.org/smf/index.php?board=11.0\">message board</a></b>."
   ]
  },
  {
   "cell_type": "code",
   "execution_count": 28,
   "metadata": {
    "scrolled": false
   },
   "outputs": [
    {
     "data": {
      "text/html": [
       "\n",
       "        <iframe\n",
       "            width=\"560\"\n",
       "            height=\"315\"\n",
       "            src=\"https://www.youtube.com/embed/5VAoRlRp1eA?rel=0&amp;controls=1&amp;showinfo=0\"\n",
       "            frameborder=\"0\"\n",
       "            allowfullscreen\n",
       "        ></iframe>\n",
       "        "
      ],
      "text/plain": [
       "<IPython.lib.display.IFrame at 0x7f98e56eb6a0>"
      ]
     },
     "metadata": {},
     "output_type": "display_data"
    }
   ],
   "source": [
    "# Introductory video for lecture 03 (L03a)\n",
    "from IPython.display import IFrame\n",
    "display(IFrame(('https://www.youtube.com/embed/5VAoRlRp1eA?rel=0&amp;controls=1&amp;showinfo=0'), width=560, height=315))"
   ]
  },
  {
   "cell_type": "markdown",
   "metadata": {},
   "source": [
    "<hr style=\"border:2px solid gray\"> </hr>"
   ]
  },
  {
   "cell_type": "markdown",
   "metadata": {},
   "source": [
    "## Step 1/5: Boundary conditions in OpenFOAM\n",
    "\n",
    "The topic related to the treatment of boundaries in OpenFOAM is quite complex. They related the physics and the geometry of the problem and form an integral part of the solution and numerics. We will re-visit boundary conditions again in our intermediate lectures once we have had a comprehension regarding mesh etc."
   ]
  },
  {
   "cell_type": "code",
   "execution_count": 29,
   "metadata": {
    "scrolled": true
   },
   "outputs": [
    {
     "data": {
      "text/html": [
       "\n",
       "        <iframe\n",
       "            width=\"560\"\n",
       "            height=\"315\"\n",
       "            src=\"https://www.youtube.com/embed/w1dNHd5dsE0?rel=0&amp;controls=1&amp;showinfo=0\"\n",
       "            frameborder=\"0\"\n",
       "            allowfullscreen\n",
       "        ></iframe>\n",
       "        "
      ],
      "text/plain": [
       "<IPython.lib.display.IFrame at 0x7f98e56eb860>"
      ]
     },
     "metadata": {},
     "output_type": "display_data"
    }
   ],
   "source": [
    "# Introduction to boundary conditions in OpenFOAM (L03b)\n",
    "display(IFrame(('https://www.youtube.com/embed/w1dNHd5dsE0?rel=0&amp;controls=1&amp;showinfo=0'), width=560, height=315))"
   ]
  },
  {
   "cell_type": "markdown",
   "metadata": {},
   "source": [
    "### First thoughts:\n",
    "\n",
    "While OpenFOAM can be used to solve problems in solids, electromagnetics and even financial modeling, most often it is used as a solver for fluid mechanics problems. In this regard, we can believe that our goal is to solve the Navier-Stokes equations where the unknowns are velocities and pressure.\n",
    "\n",
    "In order to solve our PDE, we need to specify both initial and boundary conditions. In the previous lecture, we saw that the `system` folder contains dictionaries that specify the interpolation schemes used. In this lecture, we will learn how to specify the velocities, pressures and other quantities (like turbulence parameters) at the boundaries.\n",
    "\n",
    "At the moment, the question that haunts us are: \n",
    "\n",
    "- What are the type of boundary conditions that exist in OpenFOAM?\n",
    "- Where and how do we specify the boundary conditions? \n",
    "- Can I write my own boundary conditions?\n",
    "\n",
    "We will try to discuss each of these in detail as we go ahead."
   ]
  },
  {
   "cell_type": "markdown",
   "metadata": {},
   "source": [
    "<hr style=\"border:2px solid gray\"> </hr>"
   ]
  },
  {
   "cell_type": "markdown",
   "metadata": {},
   "source": [
    "## Step 2/5: Specifying boundary conditions in OpenFOAM\n",
    "\n",
    "There are two aspects in specifying the boundary conditions in OpenFOAM.\n",
    "\n",
    "- First is related to specify the geometric region where the boundary condition need to be specified\n",
    "- Specifying the physical quantities (velocity, pressure, etc.) on these geometric regions\n",
    "\n",
    "In this section, let us open the files and check how to modify them to specify the boundary conditions."
   ]
  },
  {
   "cell_type": "code",
   "execution_count": 31,
   "metadata": {
    "scrolled": false
   },
   "outputs": [
    {
     "data": {
      "text/html": [
       "\n",
       "        <iframe\n",
       "            width=\"560\"\n",
       "            height=\"315\"\n",
       "            src=\"https://www.youtube.com/embed/iliKBx9-gt8?rel=0&amp;controls=1&amp;showinfo=0\"\n",
       "            frameborder=\"0\"\n",
       "            allowfullscreen\n",
       "        ></iframe>\n",
       "        "
      ],
      "text/plain": [
       "<IPython.lib.display.IFrame at 0x7f98e56eb860>"
      ]
     },
     "metadata": {},
     "output_type": "display_data"
    }
   ],
   "source": [
    "# Video to explain specifying boundary conditions (L03c)\n",
    "display(IFrame(('https://www.youtube.com/embed/iliKBx9-gt8?rel=0&amp;controls=1&amp;showinfo=0'), width=560, height=315))"
   ]
  },
  {
   "cell_type": "markdown",
   "metadata": {},
   "source": [
    "Before moving ahead, let us open the `blockMesh` dictionary file in the `system` folder."
   ]
  },
  {
   "cell_type": "code",
   "execution_count": 25,
   "metadata": {
    "scrolled": true
   },
   "outputs": [
    {
     "name": "stdout",
     "output_type": "stream",
     "text": [
      "/*--------------------------------*- C++ -*----------------------------------*\\\n",
      "  =========                 |\n",
      "  \\\\      /  F ield         | OpenFOAM: The Open Source CFD Toolbox\n",
      "   \\\\    /   O peration     | Website:  https://openfoam.org\n",
      "    \\\\  /    A nd           | Version:  8\n",
      "     \\\\/     M anipulation  |\n",
      "\\*---------------------------------------------------------------------------*/\n",
      "FoamFile\n",
      "{\n",
      "    version     2.0;\n",
      "    format      ascii;\n",
      "    class       dictionary;\n",
      "    object      blockMeshDict;\n",
      "}\n",
      "// * * * * * * * * * * * * * * * * * * * * * * * * * * * * * * * * * * * * * //\n",
      "\n",
      "convertToMeters 0.1;\n",
      "\n",
      "vertices\n",
      "(\n",
      "    (0 0 0)\n",
      "    (1 0 0)\n",
      "    (1 1 0)\n",
      "    (0 1 0)\n",
      "    (0 0 0.1)\n",
      "    (1 0 0.1)\n",
      "    (1 1 0.1)\n",
      "    (0 1 0.1)\n",
      ");\n",
      "\n",
      "blocks\n",
      "(\n",
      "    hex (0 1 2 3 4 5 6 7) (20 20 1) simpleGrading (1 1 1)\n",
      ");\n",
      "\n",
      "edges\n",
      "(\n",
      ");\n",
      "\n",
      "boundary\n",
      "(\n",
      "    movingWall\n",
      "    {\n",
      "        type wall;\n",
      "        faces\n",
      "        (\n",
      "            (3 7 6 2)\n",
      "        );\n",
      "    }\n",
      "    fixedWalls\n",
      "    {\n",
      "        type wall;\n",
      "        faces\n",
      "        (\n",
      "            (0 4 7 3)\n",
      "            (2 6 5 1)\n",
      "            (1 5 4 0)\n",
      "        );\n",
      "    }\n",
      "    frontAndBack\n",
      "    {\n",
      "        type empty;\n",
      "        faces\n",
      "        (\n",
      "            (0 3 2 1)\n",
      "            (4 5 6 7)\n",
      "        );\n",
      "    }\n",
      ");\n",
      "\n",
      "mergePatchPairs\n",
      "(\n",
      ");\n",
      "\n",
      "// ************************************************************************* //\n",
      "\n"
     ]
    }
   ],
   "source": [
    "f = open(\"examples/cavity/system/blockMeshDict\", \"r\")\n",
    "file_contents = f.read()\n",
    "print(file_contents)"
   ]
  },
  {
   "cell_type": "markdown",
   "metadata": {},
   "source": [
    "### Define the geometry for boundary\n",
    "\n",
    "The first aspect is to find the geometric regions where the boundary conditions need to be defined. We will briefly address this here and much more in the next lecture on `blockMesh`. As we scroll through the file, we can see the keyword `boundary`. We will discuss the concept of patches, again in the next lecture on meshing using `blockMesh` utility. However, here it is important to note that inside the boundary, a combination of faces of the mesh are used to specify the `type` for the faces. The `type` are specified as a `patch / wall / empty`. Here,\n",
    "\n",
    "- `patch` - refers to the geometric region where a boundary condition can be specified\n",
    "- `wall` - refers to a solid wall and the turbulence models specify wall functions near these faces"
   ]
  },
  {
   "cell_type": "markdown",
   "metadata": {},
   "source": [
    "### Define the values for the boundary\n",
    "\n",
    "The more important concern for us in this lecture is related to the definition of the values for the boundaries. Boundary condition values are specified in field files, e.g.  `p`, `U`, in time directories (like `0` folder). The information in the `0` directory is also the initial conditions to be considered when solving the set of equations. Additionally, more time directories can also be specified if required. Each of these field files, present in the time directories (like the `0` directory) provide an opportunity to add information about the boundary conditions related to the particular field of interest. \n",
    "\n",
    "To illustrate this, let us go ahead and open the `U` (i.e. velocity field) sub-dictionary of our cavity example and compare this to the `blockMesh` dictionary that we have opened earlier."
   ]
  },
  {
   "cell_type": "code",
   "execution_count": 26,
   "metadata": {
    "scrolled": true
   },
   "outputs": [
    {
     "name": "stdout",
     "output_type": "stream",
     "text": [
      "/*--------------------------------*- C++ -*----------------------------------*\\\n",
      "  =========                 |\n",
      "  \\\\      /  F ield         | OpenFOAM: The Open Source CFD Toolbox\n",
      "   \\\\    /   O peration     | Website:  https://openfoam.org\n",
      "    \\\\  /    A nd           | Version:  8\n",
      "     \\\\/     M anipulation  |\n",
      "\\*---------------------------------------------------------------------------*/\n",
      "FoamFile\n",
      "{\n",
      "    version     2.0;\n",
      "    format      ascii;\n",
      "    class       volVectorField;\n",
      "    object      U;\n",
      "}\n",
      "// * * * * * * * * * * * * * * * * * * * * * * * * * * * * * * * * * * * * * //\n",
      "\n",
      "dimensions      [0 1 -1 0 0 0 0];\n",
      "\n",
      "internalField   uniform (0 0 0);\n",
      "\n",
      "boundaryField\n",
      "{\n",
      "    movingWall\n",
      "    {\n",
      "        type            fixedValue;\n",
      "        value           uniform (1 0 0);\n",
      "    }\n",
      "\n",
      "    fixedWalls\n",
      "    {\n",
      "        type            noSlip;\n",
      "    }\n",
      "\n",
      "    frontAndBack\n",
      "    {\n",
      "        type            empty;\n",
      "    }\n",
      "}\n",
      "\n",
      "// ************************************************************************* //\n",
      "\n"
     ]
    }
   ],
   "source": [
    "f = open(\"examples/cavity/0/U\", \"r\")\n",
    "file_contents = f.read()\n",
    "print(file_contents)"
   ]
  },
  {
   "cell_type": "markdown",
   "metadata": {},
   "source": [
    "The `blockMesh` dictionary specified three boundaries, under the keyword `boundary`, namely:\n",
    "\n",
    "- `frontAndBack`\n",
    "- `movingWall`\n",
    "- `fixedWalls`\n",
    "\n",
    "These are the names that we have assigned to the group of faces clustered below this. We can also find that these three names are available in the `U` sub-dictionary that we have opened just above. While the `blockMesh` dictionary defined where these geometric regions are located, the field-value dictionaries specified their values and parameters.\n",
    "\n",
    "In the next section, we will discuss the options available for these boundary conditions. "
   ]
  },
  {
   "cell_type": "markdown",
   "metadata": {},
   "source": [
    "### Exercise 3.1\n",
    "\n",
    "Explore the `blockMesh` and field dictionaries for our other example (`pitzDaily`) and list the patches and walls that are used?"
   ]
  },
  {
   "cell_type": "code",
   "execution_count": null,
   "metadata": {},
   "outputs": [],
   "source": []
  },
  {
   "cell_type": "markdown",
   "metadata": {},
   "source": [
    "<hr style=\"border:2px solid gray\"> </hr>"
   ]
  },
  {
   "cell_type": "markdown",
   "metadata": {},
   "source": [
    "## Step 3/5: Basic boundary conditions\n",
    "\n",
    "There are primarily two types of boundary conditions available in OpenFOAM. Additionally, OpenFOAM also allows users to write their own boundary condition, if needed. In this section, we will explore the primary two types of boundary conditions."
   ]
  },
  {
   "cell_type": "code",
   "execution_count": 30,
   "metadata": {
    "scrolled": false
   },
   "outputs": [
    {
     "data": {
      "text/html": [
       "\n",
       "        <iframe\n",
       "            width=\"560\"\n",
       "            height=\"315\"\n",
       "            src=\"https://www.youtube.com/embed/valQfptMtIw?rel=0&amp;controls=1&amp;showinfo=0\"\n",
       "            frameborder=\"0\"\n",
       "            allowfullscreen\n",
       "        ></iframe>\n",
       "        "
      ],
      "text/plain": [
       "<IPython.lib.display.IFrame at 0x7f98e56eb860>"
      ]
     },
     "metadata": {},
     "output_type": "display_data"
    }
   ],
   "source": [
    "# Video to explain basic vs. derived bc (L03d)\n",
    "display(IFrame(('https://www.youtube.com/embed/valQfptMtIw?rel=0&amp;controls=1&amp;showinfo=0'), width=560, height=315))"
   ]
  },
  {
   "cell_type": "markdown",
   "metadata": {},
   "source": [
    "### Basic boundary conditions\n",
    "\n",
    "As a beginner, it is easy to think of the boundary conditions as some fixed value assigned to a particular physical field. For ex: In the case of our cavity example, the top wall is moving at a constant speed. Here, we can consider the velocity to be of a fixed or particular value. In general, we can say that any quantity $F$ has a specific value assigned on the patch and that does not change over the course of the simulation.\n",
    "\n",
    "Similarly, we can also fix the gradient (i.e. the value of $\\frac{\\partial F}{\\partial \\mathbf{n}}$), where $\\mathbf{n}$ is the normal to the patch. Often, a `zeroGradient` boundary condition is commonly used as well. These boundary conditions are basic and most of the other boundary conditions can be derived as a function of these. Formally, the basic boundary conditions keywords include:\n",
    "\n",
    "\n",
    "- `fixedValue`: This boundary condition implies a fixed value over the patch.\n",
    "\n",
    "\n",
    "- `fixedGradient`: This boundary condition implies a fixed value for the gradient over the patch. A particular version of the boundary condition is the `zeroGradient`.\n",
    "\n",
    "\n",
    "- `mixed`: This boundary condition is generally a mix of fixed value and gradient-type boundary. The switch is often made using a reference value.\n",
    "\n",
    "\n",
    "- `directionMixed`: This boundary conditions allow different boundary conditions in the normal and tangential directions. \n",
    "\n",
    "\n",
    "- `calculated`: This boundary condition is when the boundary condition is calculated as a function of other patch fields and values.\n",
    "\n",
    "### Exercise 3.2\n",
    "\n",
    "Let us consider the earlier `pitzDaily` example and open the velocity and pressure field dictionary from the `0` directory. Open them and identify the basic boundary conditions that are used in the example."
   ]
  },
  {
   "cell_type": "code",
   "execution_count": 27,
   "metadata": {
    "scrolled": true
   },
   "outputs": [
    {
     "name": "stdout",
     "output_type": "stream",
     "text": [
      "/*--------------------------------*- C++ -*----------------------------------*\\\n",
      "  =========                 |\n",
      "  \\\\      /  F ield         | OpenFOAM: The Open Source CFD Toolbox\n",
      "   \\\\    /   O peration     | Website:  https://openfoam.org\n",
      "    \\\\  /    A nd           | Version:  7\n",
      "     \\\\/     M anipulation  |\n",
      "\\*---------------------------------------------------------------------------*/\n",
      "FoamFile\n",
      "{\n",
      "    version     2.0;\n",
      "    format      ascii;\n",
      "    class       volVectorField;\n",
      "    object      U;\n",
      "}\n",
      "// * * * * * * * * * * * * * * * * * * * * * * * * * * * * * * * * * * * * * //\n",
      "\n",
      "dimensions      [0 1 -1 0 0 0 0];\n",
      "\n",
      "internalField   uniform (0 0 0);\n",
      "\n",
      "boundaryField\n",
      "{\n",
      "    inlet\n",
      "    {\n",
      "        type            fixedValue;\n",
      "        value           uniform (10 0 0);\n",
      "    }\n",
      "\n",
      "    outlet\n",
      "    {\n",
      "        type            zeroGradient;\n",
      "    }\n",
      "\n",
      "    upperWall\n",
      "    {\n",
      "        type            noSlip;\n",
      "    }\n",
      "\n",
      "    lowerWall\n",
      "    {\n",
      "        type            noSlip;\n",
      "    }\n",
      "\n",
      "    frontAndBack\n",
      "    {\n",
      "        type            empty;\n",
      "    }\n",
      "}\n",
      "\n",
      "// ************************************************************************* //\n",
      "\n"
     ]
    }
   ],
   "source": [
    "f = open(\"examples/pitzDaily/0/U\", \"r\")\n",
    "file_contents = f.read()\n",
    "print(file_contents)"
   ]
  },
  {
   "cell_type": "markdown",
   "metadata": {},
   "source": [
    "Alongside the basic boundary condition, there are various other boundary conditions that have been specifically designed for the inlet, outlet, wall etc. of various physical fields (like velocity, pressure etc.). As we walk through our intermediate and advanced tutorials, we will introduce you to more of these boundary conditions. Before we complete this chapter, let us consider one small detour to learn about time-varying boundary conditions and apply them to our lid-driven cavity problem."
   ]
  },
  {
   "cell_type": "markdown",
   "metadata": {},
   "source": [
    "<hr style=\"border:2px solid gray\"> </hr>"
   ]
  },
  {
   "cell_type": "markdown",
   "metadata": {},
   "source": [
    "## Step 4/5: Time-varying boundary conditions\n",
    "\n",
    "In this last section, we will discuss a special type of boundary conditions that allow variation with time. While `fixedValue` or `fixedGradient` boundary conditions are ideal to start the learning process, most of the realistic problems in nature are time-varying. In order to be prepared to solve more realistic problems, we would like to learn how to impose time-varying boundary conditions."
   ]
  },
  {
   "cell_type": "code",
   "execution_count": 32,
   "metadata": {
    "scrolled": false
   },
   "outputs": [
    {
     "data": {
      "text/html": [
       "\n",
       "        <iframe\n",
       "            width=\"560\"\n",
       "            height=\"315\"\n",
       "            src=\"https://www.youtube.com/embed/rfTirgtDJ1Q?rel=0&amp;controls=1&amp;showinfo=0\"\n",
       "            frameborder=\"0\"\n",
       "            allowfullscreen\n",
       "        ></iframe>\n",
       "        "
      ],
      "text/plain": [
       "<IPython.lib.display.IFrame at 0x7f98e56eb860>"
      ]
     },
     "metadata": {},
     "output_type": "display_data"
    }
   ],
   "source": [
    "## Time-varying boundary conditions (L03e)\n",
    "display(IFrame(('https://www.youtube.com/embed/rfTirgtDJ1Q?rel=0&amp;controls=1&amp;showinfo=0'), width=560, height=315))"
   ]
  },
  {
   "cell_type": "markdown",
   "metadata": {},
   "source": [
    "There are sevaral boundary conditions where an input keyword can be used to specify the variation with time. One of the simplest one is the `uniformFixedValue` . This allows a value to be assigned to the patch and the value can be controlled using keywords for variation in time. These keywords allow variation of the quantity with time as `sine / cosine / polynomial / linear ramp` or generically through a CSV table. Some examples include:\n",
    "\n",
    "`Constant value`\n",
    "\n",
    "    inlet\n",
    "    (\n",
    "\n",
    "        type         uniformFixedValue;\n",
    "        uniformValue constant 10; // Implies a constant value of 10 units\n",
    "\n",
    "    )\n",
    "\n",
    "`Sinosoidal`\n",
    "\n",
    "    inlet\n",
    "    (\n",
    "\n",
    "        type           uniformFixedValue;\n",
    "        uniformValue\n",
    "        {\n",
    "            type       sine; // Type of variation is sinosoidal \n",
    "            frequency  10;   // Frequency of the sine wave\n",
    "            amplitude  0.1;  // Amplitude of the sine wave\n",
    "            scale      1;    // Scaling factor for the wave\n",
    "            offset     0;    // Phase Offset\n",
    "        }\n",
    "    \n",
    "    )\n",
    "\n",
    "Similarly, the type above can also be replaced as a `square` wave.\n",
    "\n",
    "`Polynomial`\n",
    "\n",
    "    inlet\n",
    "    (\n",
    "        type         uniformFixedValue\n",
    "        uniformValue polynomial ((a b) (c d) (e f)) //Implies a*t^b + c*t^d + e*t^f (where t is the time)   \n",
    "    )\n",
    "\n",
    "As we go through the tutorial, we will explore more advanced boundary conditions and apply them to problems of interest."
   ]
  },
  {
   "cell_type": "markdown",
   "metadata": {},
   "source": [
    "### Exercise 2.4\n",
    "\n",
    "- We had used a constant velocity for the top wall in our Lid-driven cavity problem. Convert the boundary condition to be a sinosiodal wave by assuming that the velocity of the top wall is now $v_0 \\sin\\omega t$ where $v_0$ is the original constant velocity of 1 m/s and $\\omega = 2\\pi$.\n",
    "\n",
    "**Clue**: Consider the following steps:\n",
    "- Copy the example file to your data depot\n",
    "- Modify the `blockMesh` dictionary\n",
    "- Initialize the agave\n",
    "- Start the agave job as earlier. Here, note that the files dictionaries are now in your user folder and not the published folder. So the `input directory` in the `jobdetails` will change to `\"inputDirectory\": \"agave://designsafe.storage.default/username/folder-path-to-cavity-example\"`\n",
    "- Run with the start and end times being the same. You can change this in the *controlDict* dictionary file in the `system` folder (remember Lecture 01). This will ensure that the mesh is created but the simulation does not start.\n"
   ]
  },
  {
   "cell_type": "code",
   "execution_count": null,
   "metadata": {},
   "outputs": [],
   "source": []
  },
  {
   "cell_type": "markdown",
   "metadata": {},
   "source": [
    "<hr style=\"border:2px solid gray\"> </hr>"
   ]
  },
  {
   "cell_type": "markdown",
   "metadata": {},
   "source": [
    "## Step 5/5: Recap and next step\n",
    "\n",
    "In this lecture, we explored the application of boundary conditions in OpenFOAM - including, basic, derived and time-varying boundary conditions. In the advanced modules, we will also discuss writing custom boundary conditions. In the next and last lecture in this beginner series of CFD Notebooks, we will explore the concept of meshing using the `blockMesh` utility. "
   ]
  },
  {
   "cell_type": "code",
   "execution_count": 33,
   "metadata": {
    "scrolled": false
   },
   "outputs": [
    {
     "data": {
      "text/html": [
       "\n",
       "        <iframe\n",
       "            width=\"560\"\n",
       "            height=\"315\"\n",
       "            src=\"https://www.youtube.com/embed/-X9QSLlyRY4?rel=0&amp;controls=1&amp;showinfo=0\"\n",
       "            frameborder=\"0\"\n",
       "            allowfullscreen\n",
       "        ></iframe>\n",
       "        "
      ],
      "text/plain": [
       "<IPython.lib.display.IFrame at 0x7f98e56eb748>"
      ]
     },
     "metadata": {},
     "output_type": "display_data"
    }
   ],
   "source": [
    "## Recap and next steps (L03f)\n",
    "display(IFrame(('https://www.youtube.com/embed/-X9QSLlyRY4?rel=0&amp;controls=1&amp;showinfo=0'), width=560, height=315))"
   ]
  },
  {
   "cell_type": "markdown",
   "metadata": {},
   "source": [
    "# References\n",
    "\n",
    "1. CFD-Notebooks documentation [(Link)](https://nheri-simcenter.github.io/CFD-Notebooks)\n",
    "2. OpenFOAM Wiki [(Link)](https://openfoamwiki.net/index.php/Main_Page)\n",
    "3. Official OpenFOAM documentation [(Link)](https://openfoam.org/resources)\n",
    "4. Documentation from CFD Direct [(Link)](https://cfd.direct/openfoam/documentation)"
   ]
  }
 ],
 "metadata": {
  "kernelspec": {
   "display_name": "Python 3",
   "language": "python",
   "name": "python3"
  },
  "language_info": {
   "codemirror_mode": {
    "name": "ipython",
    "version": 3
   },
   "file_extension": ".py",
   "mimetype": "text/x-python",
   "name": "python",
   "nbconvert_exporter": "python",
   "pygments_lexer": "ipython3",
   "version": "3.6.8"
  }
 },
 "nbformat": 4,
 "nbformat_minor": 2
}
