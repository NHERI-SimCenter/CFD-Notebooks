{
 "cells": [
  {
   "cell_type": "markdown",
   "metadata": {},
   "source": [
    "# Lecture 01: Getting start with OpenFOAM on DesignSafe"
   ]
  },
  {
   "cell_type": "markdown",
   "metadata": {},
   "source": [
    "<hr style=\"border:2px solid gray\"> </hr>"
   ]
  },
  {
   "cell_type": "markdown",
   "metadata": {},
   "source": [
    "## Authors\n",
    "\n",
    "Ajay B Harish$^+$, Sanjay Govindjee and Frank McKenna <br>\n",
    "*SimCenter, University of California, Berkeley* <br>\n",
    "\n",
    "$^+$ **Corresponding author** <br>\n",
    "*Web:* www.ajaybharish.com <br>\n",
    "*Email:* ajaybh@berkeley.edu <br>\n",
    "\n",
    "## How to cite\n",
    "Harish, Ajay Bangalore; Govindjee, Sanjay; McKenna, Frank (2020) “CFD Notebooks (Beginner).” DesignSafe-CI. https://doi.org/10.17603/ds2-w2x6-nm09.\n",
    "\n",
    "\n",
    "## Copyright\n",
    "\n",
    "The CFD Notebooks are developed by the NHERI <a href=\"http://simcenter.designsafe-ci.org\">SimCenter</a>. It is copyrighted to “The Regents of the University of California” and is licensed under the BSD 2-clause license. For more information, please check our webpage for information on <a href=\"https://nheri-simcenter.github.io/CFD-Notebooks/geninfo/copyright.html\">licensing and distribution</a>."
   ]
  },
  {
   "cell_type": "markdown",
   "metadata": {},
   "source": [
    "## Goal of this lecture\n",
    "\n",
    "- How is OpenFOAM different from other solvers? OpenFOAM vs. Commercial tools\n",
    "- Learn about starting up on DesignSafe\n",
    "- Learn to find the app (here OpenFOAM) of interest on DesignSafe\n",
    "- Setup the job to be run on DesignSafe using the desired app\n",
    "- Post-process the first solutions\n",
    "- **Estimated time for completion:** 60-90 minutes\n",
    "\n",
    "For any queries, write to us on our <a href=\"http://simcenter-messageboard.designsafe-ci.org/smf/index.php?board=11.0\">message board</a>\n",
    "\n",
    "<b>If you would like our feedback, you can post your solutions for the exercises to the <a href=\"http://simcenter-messageboard.designsafe-ci.org/smf/index.php?board=11.0\">message board</a></b>."
   ]
  },
  {
   "cell_type": "code",
   "execution_count": 48,
   "metadata": {},
   "outputs": [
    {
     "data": {
      "text/html": [
       "\n",
       "        <iframe\n",
       "            width=\"560\"\n",
       "            height=\"315\"\n",
       "            src=\"https://www.youtube.com/embed/Z-24tV_zHSk?rel=0&amp;controls=1&amp;showinfo=0\"\n",
       "            frameborder=\"0\"\n",
       "            allowfullscreen\n",
       "        ></iframe>\n",
       "        "
      ],
      "text/plain": [
       "<IPython.lib.display.IFrame at 0x7fbb0e7efa20>"
      ]
     },
     "metadata": {},
     "output_type": "display_data"
    }
   ],
   "source": [
    "## Introductory video for lecture 01 (L01a)\n",
    "from IPython.display import IFrame\n",
    "display(IFrame(('https://www.youtube.com/embed/Z-24tV_zHSk?rel=0&amp;controls=1&amp;showinfo=0'), width=560, height=315))"
   ]
  },
  {
   "cell_type": "markdown",
   "metadata": {},
   "source": [
    "<hr style=\"border:2px solid gray\"> </hr>"
   ]
  },
  {
   "cell_type": "markdown",
   "metadata": {},
   "source": [
    "## Step 1/8: Getting started with Designsafe\n",
    "\n",
    "Welcome to this series on **Getting started with OpenFOAM** developed by the <a href=\"https://simcenter.designsafe-ci.org\">SimCenter</a> . This is a practical hands-on tool to get you started with using OpenFOAM with DesignSafe. This course assumes only some basic experience in programming and ideas of fluid mechanics. We will follow a series of tutorials to get you started from stepping in and running OpenFOAM to adding custom utilities.\n",
    "\n",
    "Before going ahead, lets take brief recap about using DesignSafe."
   ]
  },
  {
   "cell_type": "code",
   "execution_count": 49,
   "metadata": {},
   "outputs": [
    {
     "data": {
      "text/html": [
       "\n",
       "        <iframe\n",
       "            width=\"560\"\n",
       "            height=\"315\"\n",
       "            src=\"https://www.youtube.com/embed/msw6-n6vOLs?rel=0&amp;controls=1&amp;showinfo=0\"\n",
       "            frameborder=\"0\"\n",
       "            allowfullscreen\n",
       "        ></iframe>\n",
       "        "
      ],
      "text/plain": [
       "<IPython.lib.display.IFrame at 0x7fbb0e7efac8>"
      ]
     },
     "metadata": {},
     "output_type": "display_data"
    }
   ],
   "source": [
    "## Getting started with DesignSafe (L01b)\n",
    "display(IFrame(('https://www.youtube.com/embed/msw6-n6vOLs?rel=0&amp;controls=1&amp;showinfo=0'), width=560, height=315))"
   ]
  },
  {
   "cell_type": "markdown",
   "metadata": {},
   "source": [
    "<hr style=\"border:2px solid gray\"> </hr>"
   ]
  },
  {
   "cell_type": "markdown",
   "metadata": {},
   "source": [
    "## Step 2/8: OpenFOAM vs. Commercial tools\n",
    "\n",
    "In a commercial tool like (say Ansys Fluent) every aspect is controlled by a single interface. The interface uses a standard workflow starting from importing geometry, creating mesh, setting up initial and boundary conditions. Finally, a job is created and runs. This provides the semblence of a single solver. Thus, starting a job automatically sets the relevant parameters.\n",
    "\n",
    "<p>\n",
    "<center><b><big>vs.</big></b></center>\n",
    "</p>\n",
    "OpenFOAM is a collection of various solvers. Each of these solvers are used to solve a particular genre of problem. Depending on the type of physics being solved, a different solver is required to be used. In more simple words, it is like a collection of \"apps\" where each \"app\" represents a solver. Thus, when one is starting a job, one needs to call the solver relevant to the problem at hand."
   ]
  },
  {
   "cell_type": "code",
   "execution_count": 50,
   "metadata": {},
   "outputs": [
    {
     "data": {
      "text/html": [
       "\n",
       "        <iframe\n",
       "            width=\"560\"\n",
       "            height=\"315\"\n",
       "            src=\"https://www.youtube.com/embed/gdwskVEOfDc?rel=0&amp;controls=1&amp;showinfo=0\"\n",
       "            frameborder=\"0\"\n",
       "            allowfullscreen\n",
       "        ></iframe>\n",
       "        "
      ],
      "text/plain": [
       "<IPython.lib.display.IFrame at 0x7fbb0e7efbe0>"
      ]
     },
     "metadata": {},
     "output_type": "display_data"
    }
   ],
   "source": [
    "## Difference between OpenFOAM and commercial tools (L01c)\n",
    "display(IFrame(('https://www.youtube.com/embed/gdwskVEOfDc?rel=0&amp;controls=1&amp;showinfo=0'), width=560, height=315))"
   ]
  },
  {
   "cell_type": "markdown",
   "metadata": {},
   "source": [
    "<hr style=\"border:2px solid gray\"> </hr>"
   ]
  },
  {
   "cell_type": "markdown",
   "metadata": {},
   "source": [
    "## Step 3/8: Log-in to DesignSafe from Jupyter notebook"
   ]
  },
  {
   "cell_type": "code",
   "execution_count": 51,
   "metadata": {},
   "outputs": [
    {
     "data": {
      "text/html": [
       "\n",
       "        <iframe\n",
       "            width=\"560\"\n",
       "            height=\"315\"\n",
       "            src=\"https://www.youtube.com/embed/dbu_JjuXfok?rel=0&amp;controls=1&amp;showinfo=0\"\n",
       "            frameborder=\"0\"\n",
       "            allowfullscreen\n",
       "        ></iframe>\n",
       "        "
      ],
      "text/plain": [
       "<IPython.lib.display.IFrame at 0x7fbb0e7efbe0>"
      ]
     },
     "metadata": {},
     "output_type": "display_data"
    }
   ],
   "source": [
    "## Logging into DesignSafe using Jupyter notebook (L01d)\n",
    "display(IFrame(('https://www.youtube.com/embed/dbu_JjuXfok?rel=0&amp;controls=1&amp;showinfo=0'), width=560, height=315))"
   ]
  },
  {
   "cell_type": "markdown",
   "metadata": {},
   "source": [
    "### Import the agave client"
   ]
  },
  {
   "cell_type": "code",
   "execution_count": 32,
   "metadata": {},
   "outputs": [],
   "source": [
    "from agavepy.agave import Agave"
   ]
  },
  {
   "cell_type": "markdown",
   "metadata": {},
   "source": [
    "### Login and authentication\n",
    "\n",
    "Since you are already logged into DesignSafe, we will get the authorization"
   ]
  },
  {
   "cell_type": "code",
   "execution_count": 33,
   "metadata": {},
   "outputs": [],
   "source": [
    "ag = Agave.restore()"
   ]
  },
  {
   "cell_type": "markdown",
   "metadata": {},
   "source": [
    "### Check for authentication\n",
    "\n",
    "Check that the login has been successful. If it was, you should be able to see your details."
   ]
  },
  {
   "cell_type": "code",
   "execution_count": 34,
   "metadata": {},
   "outputs": [
    {
     "data": {
      "text/plain": [
       "{'first_name': 'Ajay Bangalore',\n",
       " 'last_name': 'Harish',\n",
       " 'full_name': 'bhajay',\n",
       " 'email': 'bh.ajay@gmail.com',\n",
       " 'phone': '',\n",
       " 'mobile_phone': '',\n",
       " 'nonce': '',\n",
       " 'status': '',\n",
       " 'create_time': '20200113193129Z',\n",
       " 'uid': 0,\n",
       " 'username': 'bhajay'}"
      ]
     },
     "execution_count": 34,
     "metadata": {},
     "output_type": "execute_result"
    }
   ],
   "source": [
    "ag.profiles.get()"
   ]
  },
  {
   "cell_type": "markdown",
   "metadata": {},
   "source": [
    "<hr style=\"border:2px solid gray\"> </hr>"
   ]
  },
  {
   "cell_type": "markdown",
   "metadata": {},
   "source": [
    "## Step 4/8: Finding OpenFOAM on DesignSafe\n"
   ]
  },
  {
   "cell_type": "code",
   "execution_count": 52,
   "metadata": {},
   "outputs": [
    {
     "data": {
      "text/html": [
       "\n",
       "        <iframe\n",
       "            width=\"560\"\n",
       "            height=\"315\"\n",
       "            src=\"https://www.youtube.com/embed/c_Iugd6rZKE?rel=0&amp;controls=1&amp;showinfo=0\"\n",
       "            frameborder=\"0\"\n",
       "            allowfullscreen\n",
       "        ></iframe>\n",
       "        "
      ],
      "text/plain": [
       "<IPython.lib.display.IFrame at 0x7fbb0e7efbe0>"
      ]
     },
     "metadata": {},
     "output_type": "display_data"
    }
   ],
   "source": [
    "## Finding openfoam app on designsafe (L01e)\n",
    "display(IFrame(('https://www.youtube.com/embed/c_Iugd6rZKE?rel=0&amp;controls=1&amp;showinfo=0'), width=560, height=315))"
   ]
  },
  {
   "cell_type": "markdown",
   "metadata": {},
   "source": [
    "### List of apps\n",
    "\n",
    "Get the list of apps available on DesignSafe"
   ]
  },
  {
   "cell_type": "code",
   "execution_count": 35,
   "metadata": {},
   "outputs": [
    {
     "data": {
      "text/plain": [
       "[{'id': 'swbatch-0.2.1u10',\n",
       "  'name': 'swbatch',\n",
       "  'version': '0.2.1',\n",
       "  'revision': 10,\n",
       "  'executionSystem': 'designsafe.community.exec.stampede2.nores',\n",
       "  'shortDescription': 'SWbatch allows for the batch inversion of surface wave dispersion data using the Dinver module of Geopsy.',\n",
       "  'isPublic': True,\n",
       "  'label': 'SWbatch',\n",
       "  'lastModified': datetime.datetime(2020, 10, 27, 12, 53, 16, tzinfo=tzoffset(None, -18000)),\n",
       "  '_links': {'self': {'href': 'https://agave.designsafe-ci.org/apps/v2/swbatch-0.2.1u10'}}},\n",
       " {'id': 'matlab-duvd-20a-1.0.0u1',\n",
       "  'name': 'matlab-duvd-20a',\n",
       "  'version': '1.0.0',\n",
       "  'revision': 1,\n",
       "  'executionSystem': 'designsafe.community.exec-01',\n",
       "  'shortDescription': 'Run an interactive Matlab 2020a session on a virtual machine.',\n",
       "  'isPublic': True,\n",
       "  'label': 'MATLAB Interactive 20a',\n",
       "  'lastModified': datetime.datetime(2020, 10, 21, 16, 40, 19, tzinfo=tzoffset(None, -18000)),\n",
       "  '_links': {'self': {'href': 'https://agave.designsafe-ci.org/apps/v2/matlab-duvd-20a-1.0.0u1'}}},\n",
       " {'id': 'openfoam-7.0u3',\n",
       "  'name': 'openfoam',\n",
       "  'version': '7.0',\n",
       "  'revision': 3,\n",
       "  'executionSystem': 'designsafe.community.exec.stampede2.nores',\n",
       "  'shortDescription': 'OpenFOAM is free, open source software for computational fluid dynamics (CFD).',\n",
       "  'isPublic': True,\n",
       "  'label': 'OpenFOAM (V7)',\n",
       "  'lastModified': datetime.datetime(2020, 10, 19, 12, 40, 33, tzinfo=tzoffset(None, -18000)),\n",
       "  '_links': {'self': {'href': 'https://agave.designsafe-ci.org/apps/v2/openfoam-7.0u3'}}},\n",
       " {'id': 'openfoam-6.0u2',\n",
       "  'name': 'openfoam',\n",
       "  'version': '6.0',\n",
       "  'revision': 2,\n",
       "  'executionSystem': 'designsafe.community.exec.stampede2.nores',\n",
       "  'shortDescription': 'OpenFOAM is free, open source software for computational fluid dynamics (CFD).',\n",
       "  'isPublic': True,\n",
       "  'label': 'OpenFOAM (V6)',\n",
       "  'lastModified': datetime.datetime(2020, 10, 19, 12, 40, 20, tzinfo=tzoffset(None, -18000)),\n",
       "  '_links': {'self': {'href': 'https://agave.designsafe-ci.org/apps/v2/openfoam-6.0u2'}}},\n",
       " {'id': 'frontera-hpc-jupyter-1.0u10',\n",
       "  'name': 'frontera-hpc-jupyter',\n",
       "  'version': '1.0',\n",
       "  'revision': 10,\n",
       "  'executionSystem': 'designsafe.community.exec.frontera',\n",
       "  'shortDescription': 'Frontera HPC Jupyter app',\n",
       "  'isPublic': True,\n",
       "  'label': 'HPC Jupyter',\n",
       "  'lastModified': datetime.datetime(2020, 10, 15, 15, 27, 47, tzinfo=tzoffset(None, -18000)),\n",
       "  '_links': {'self': {'href': 'https://agave.designsafe-ci.org/apps/v2/frontera-hpc-jupyter-1.0u10'}}},\n",
       " {'id': 'rWhale-2.2.0u1',\n",
       "  'name': 'rWhale',\n",
       "  'version': '2.2.0',\n",
       "  'revision': 1,\n",
       "  'executionSystem': 'designsafe.simcenter.exec.stampede2',\n",
       "  'shortDescription': 'rWHALE: Regional Workflow for Hazard and Loss Estimation. This Agave application runs the regional earthquake workflow on TACC Stampede2 using applications and data in DesignSafe Data Depot.',\n",
       "  'isPublic': True,\n",
       "  'label': 'rWHALE',\n",
       "  'lastModified': datetime.datetime(2020, 10, 9, 14, 22, 42, tzinfo=tzoffset(None, -18000)),\n",
       "  '_links': {'self': {'href': 'https://agave.designsafe-ci.org/apps/v2/rWhale-2.2.0u1'}}},\n",
       " {'id': 'qgis-duvd-3.14.16u1',\n",
       "  'name': 'qgis-duvd',\n",
       "  'version': '3.14.16',\n",
       "  'revision': 1,\n",
       "  'executionSystem': 'designsafe.community.exec-01',\n",
       "  'shortDescription': 'Run an interactive QGIS session on a virtual machine.',\n",
       "  'isPublic': True,\n",
       "  'label': 'QGIS Desktop 3.14',\n",
       "  'lastModified': datetime.datetime(2020, 9, 30, 15, 19, 58, tzinfo=tzoffset(None, -18000)),\n",
       "  '_links': {'self': {'href': 'https://agave.designsafe-ci.org/apps/v2/qgis-duvd-3.14.16u1'}}},\n",
       " {'id': 'opensees-mp-3.2.0u4',\n",
       "  'name': 'opensees-mp',\n",
       "  'version': '3.2.0',\n",
       "  'revision': 4,\n",
       "  'executionSystem': 'designsafe.community.exec.stampede2.nores',\n",
       "  'shortDescription': 'OpenSees is a software framework for simulating the seismic response of structural and geotechnical systems.',\n",
       "  'isPublic': True,\n",
       "  'label': 'OpenSeesMP (V 3.2)',\n",
       "  'lastModified': datetime.datetime(2020, 9, 29, 12, 40, 33, tzinfo=tzoffset(None, -18000)),\n",
       "  '_links': {'self': {'href': 'https://agave.designsafe-ci.org/apps/v2/opensees-mp-3.2.0u4'}}},\n",
       " {'id': 'gid-14.0.3u1',\n",
       "  'name': 'gid',\n",
       "  'version': '14.0.3',\n",
       "  'revision': 1,\n",
       "  'executionSystem': 'designsafe.community.exec.stampede2.nores',\n",
       "  'shortDescription': 'GiD is the personal per and post processors.',\n",
       "  'isPublic': True,\n",
       "  'label': 'GiD',\n",
       "  'lastModified': datetime.datetime(2020, 9, 15, 14, 52, 59, tzinfo=tzoffset(None, -18000)),\n",
       "  '_links': {'self': {'href': 'https://agave.designsafe-ci.org/apps/v2/gid-14.0.3u1'}}},\n",
       " {'id': 'opensees-sp-3.2.0u2',\n",
       "  'name': 'opensees-sp',\n",
       "  'version': '3.2.0',\n",
       "  'revision': 2,\n",
       "  'executionSystem': 'designsafe.community.exec.stampede2.nores',\n",
       "  'shortDescription': 'OpenSees is a software framework for simulating the seismic response of structural and geotechnical systems.',\n",
       "  'isPublic': True,\n",
       "  'label': 'OpenSeesSP (V 3.2)',\n",
       "  'lastModified': datetime.datetime(2020, 9, 9, 15, 23, 17, tzinfo=tzoffset(None, -18000)),\n",
       "  '_links': {'self': {'href': 'https://agave.designsafe-ci.org/apps/v2/opensees-sp-3.2.0u2'}}},\n",
       " {'id': 'matlab-2017a-9.4.0u1',\n",
       "  'name': 'matlab-2017a',\n",
       "  'version': '9.4.0',\n",
       "  'revision': 1,\n",
       "  'executionSystem': 'designsafe.community.exec.stampede2.nores',\n",
       "  'shortDescription': 'MATLAB Batch is a non-interactive application to run *.m scipts.',\n",
       "  'isPublic': True,\n",
       "  'label': 'MATLAB (Batch 2017a)',\n",
       "  'lastModified': datetime.datetime(2020, 9, 1, 16, 55, 55, tzinfo=tzoffset(None, -18000)),\n",
       "  '_links': {'self': {'href': 'https://agave.designsafe-ci.org/apps/v2/matlab-2017a-9.4.0u1'}}},\n",
       " {'id': 'matlab-2017b-9.4.0u1',\n",
       "  'name': 'matlab-2017b',\n",
       "  'version': '9.4.0',\n",
       "  'revision': 1,\n",
       "  'executionSystem': 'designsafe.community.exec.stampede2.nores',\n",
       "  'shortDescription': 'MATLAB Batch is a non-interactive application to run *.m scipts.',\n",
       "  'isPublic': True,\n",
       "  'label': 'MATLAB (Batch 2017b)',\n",
       "  'lastModified': datetime.datetime(2020, 9, 1, 16, 55, 44, tzinfo=tzoffset(None, -18000)),\n",
       "  '_links': {'self': {'href': 'https://agave.designsafe-ci.org/apps/v2/matlab-2017b-9.4.0u1'}}},\n",
       " {'id': 'matlab-2018a-9.4.0u1',\n",
       "  'name': 'matlab-2018a',\n",
       "  'version': '9.4.0',\n",
       "  'revision': 1,\n",
       "  'executionSystem': 'designsafe.community.exec.stampede2.nores',\n",
       "  'shortDescription': 'MATLAB Batch is a non-interactive application to run *.m scipts.',\n",
       "  'isPublic': True,\n",
       "  'label': 'MATLAB (Batch 2018a)',\n",
       "  'lastModified': datetime.datetime(2020, 9, 1, 16, 55, 29, tzinfo=tzoffset(None, -18000)),\n",
       "  '_links': {'self': {'href': 'https://agave.designsafe-ci.org/apps/v2/matlab-2018a-9.4.0u1'}}},\n",
       " {'id': 'matlab-2018b-9.4.0u1',\n",
       "  'name': 'matlab-2018b',\n",
       "  'version': '9.4.0',\n",
       "  'revision': 1,\n",
       "  'executionSystem': 'designsafe.community.exec.stampede2.nores',\n",
       "  'shortDescription': 'MATLAB Batch is a non-interactive application to run *.m scripts.',\n",
       "  'isPublic': True,\n",
       "  'label': 'MATLAB (Batch 2018b)',\n",
       "  'lastModified': datetime.datetime(2020, 9, 1, 16, 55, 11, tzinfo=tzoffset(None, -18000)),\n",
       "  '_links': {'self': {'href': 'https://agave.designsafe-ci.org/apps/v2/matlab-2018b-9.4.0u1'}}},\n",
       " {'id': 'matlab-2019a-9.5.0u1',\n",
       "  'name': 'matlab-2019a',\n",
       "  'version': '9.5.0',\n",
       "  'revision': 1,\n",
       "  'executionSystem': 'designsafe.community.exec.stampede2.nores',\n",
       "  'shortDescription': 'MATLAB Batch is a non-interactive application to run *.m scripts.',\n",
       "  'isPublic': True,\n",
       "  'label': 'MATLAB (Batch 2019a)',\n",
       "  'lastModified': datetime.datetime(2020, 9, 1, 16, 54, 47, tzinfo=tzoffset(None, -18000)),\n",
       "  '_links': {'self': {'href': 'https://agave.designsafe-ci.org/apps/v2/matlab-2019a-9.5.0u1'}}},\n",
       " {'id': 'matlab-2019b-9.5.1u1',\n",
       "  'name': 'matlab-2019b',\n",
       "  'version': '9.5.1',\n",
       "  'revision': 1,\n",
       "  'executionSystem': 'designsafe.community.exec.stampede2.nores',\n",
       "  'shortDescription': 'MATLAB Batch is a non-interactive application to run *.m scripts.',\n",
       "  'isPublic': True,\n",
       "  'label': 'MATLAB (Batch 2019b)',\n",
       "  'lastModified': datetime.datetime(2020, 9, 1, 16, 54, 35, tzinfo=tzoffset(None, -18000)),\n",
       "  '_links': {'self': {'href': 'https://agave.designsafe-ci.org/apps/v2/matlab-2019b-9.5.1u1'}}},\n",
       " {'id': 'matlab-2020a-9.8.0u1',\n",
       "  'name': 'matlab-2020a',\n",
       "  'version': '9.8.0',\n",
       "  'revision': 1,\n",
       "  'executionSystem': 'designsafe.community.exec.stampede2.nores',\n",
       "  'shortDescription': 'MATLAB Batch is a non-interactive application to run *.m scripts.',\n",
       "  'isPublic': True,\n",
       "  'label': 'MATLAB (Batch 2020a)',\n",
       "  'lastModified': datetime.datetime(2020, 9, 1, 16, 54, 18, tzinfo=tzoffset(None, -18000)),\n",
       "  '_links': {'self': {'href': 'https://agave.designsafe-ci.org/apps/v2/matlab-2020a-9.8.0u1'}}},\n",
       " {'id': 'padcircswan-s2-52.0u1',\n",
       "  'name': 'padcircswan-s2',\n",
       "  'version': '52.0',\n",
       "  'revision': 1,\n",
       "  'executionSystem': 'designsafe.community.exec.stampede2.nores',\n",
       "  'shortDescription': 'Parallel SWAN and ADCIRC is the fully-coupled model.',\n",
       "  'isPublic': True,\n",
       "  'label': 'PADCIRC SWAN (Stampede2) ',\n",
       "  'lastModified': datetime.datetime(2020, 8, 31, 16, 36, 43, tzinfo=tzoffset(None, -18000)),\n",
       "  '_links': {'self': {'href': 'https://agave.designsafe-ci.org/apps/v2/padcircswan-s2-52.0u1'}}},\n",
       " {'id': 'padcirc-swan-ls5-52.0u1',\n",
       "  'name': 'padcirc-swan-ls5',\n",
       "  'version': '52.0',\n",
       "  'revision': 1,\n",
       "  'executionSystem': 'designsafe.community.exec.ls5',\n",
       "  'shortDescription': 'Parallel ADCIRC SWAN is a computer program for solving systems of shallow water equations.',\n",
       "  'isPublic': True,\n",
       "  'label': 'PADCIRC SWAN (Lonestar5)',\n",
       "  'lastModified': datetime.datetime(2020, 8, 31, 16, 33, 26, tzinfo=tzoffset(None, -18000)),\n",
       "  '_links': {'self': {'href': 'https://agave.designsafe-ci.org/apps/v2/padcirc-swan-ls5-52.0u1'}}},\n",
       " {'id': 'padcirc-swan-s2-52.0u1',\n",
       "  'name': 'padcirc-swan-s2',\n",
       "  'version': '52.0',\n",
       "  'revision': 1,\n",
       "  'executionSystem': 'designsafe.community.exec.stampede2.nores',\n",
       "  'shortDescription': 'Parallel SWAN and ADCIRC is the fully-coupled model.',\n",
       "  'isPublic': True,\n",
       "  'label': 'PADCIRC SWAN (Stampede2) ',\n",
       "  'lastModified': datetime.datetime(2020, 8, 31, 16, 30, 8, tzinfo=tzoffset(None, -18000)),\n",
       "  '_links': {'self': {'href': 'https://agave.designsafe-ci.org/apps/v2/padcirc-swan-s2-52.0u1'}}},\n",
       " {'id': 'padcirc-s2-52.0u1',\n",
       "  'name': 'padcirc-s2',\n",
       "  'version': '52.0',\n",
       "  'revision': 1,\n",
       "  'executionSystem': 'designsafe.community.exec.stampede2.nores',\n",
       "  'shortDescription': 'Parallel ADCIRC is a computer program for solving systems of shallow water equations.',\n",
       "  'isPublic': True,\n",
       "  'label': 'PADCIRC (Stampede2)',\n",
       "  'lastModified': datetime.datetime(2020, 8, 31, 16, 29, 45, tzinfo=tzoffset(None, -18000)),\n",
       "  '_links': {'self': {'href': 'https://agave.designsafe-ci.org/apps/v2/padcirc-s2-52.0u1'}}},\n",
       " {'id': 'padcirc-ls5-52.0u1',\n",
       "  'name': 'padcirc-ls5',\n",
       "  'version': '52.0',\n",
       "  'revision': 1,\n",
       "  'executionSystem': 'designsafe.community.exec.ls5',\n",
       "  'shortDescription': 'Parallel ADCIRC is a computer program for solving systems of shallow water equations.',\n",
       "  'isPublic': True,\n",
       "  'label': 'PADCIRC (Lonestar5)',\n",
       "  'lastModified': datetime.datetime(2020, 8, 31, 16, 29, 28, tzinfo=tzoffset(None, -18000)),\n",
       "  '_links': {'self': {'href': 'https://agave.designsafe-ci.org/apps/v2/padcirc-ls5-52.0u1'}}},\n",
       " {'id': 'adcirc-52.0u1',\n",
       "  'name': 'adcirc',\n",
       "  'version': '52.0',\n",
       "  'revision': 1,\n",
       "  'executionSystem': 'designsafe.community.exec.stampede2.nores',\n",
       "  'shortDescription': 'ADCIRC provides user with a sequential ADCIRC program. It is ideal to run small models on DesignSafe .',\n",
       "  'isPublic': True,\n",
       "  'label': 'ADCIRC-V52 (Stampede2)',\n",
       "  'lastModified': datetime.datetime(2020, 8, 31, 16, 29, 8, tzinfo=tzoffset(None, -18000)),\n",
       "  '_links': {'self': {'href': 'https://agave.designsafe-ci.org/apps/v2/adcirc-52.0u1'}}},\n",
       " {'id': 'adcirc-51.33u19',\n",
       "  'name': 'adcirc',\n",
       "  'version': '51.33',\n",
       "  'revision': 19,\n",
       "  'executionSystem': 'designsafe.community.exec.stampede2.nores',\n",
       "  'shortDescription': 'ADCIRC provides user with a sequential ADCIRC program. It is ideal to run small models on DesignSafe.',\n",
       "  'isPublic': True,\n",
       "  'label': 'ADCIRC-V51.33 (Stampede2)',\n",
       "  'lastModified': datetime.datetime(2020, 8, 31, 16, 28, 52, tzinfo=tzoffset(None, -18000)),\n",
       "  '_links': {'self': {'href': 'https://agave.designsafe-ci.org/apps/v2/adcirc-51.33u19'}}},\n",
       " {'id': 'opensees-mp-3.0.2u2',\n",
       "  'name': 'opensees-mp',\n",
       "  'version': '3.0.2',\n",
       "  'revision': 2,\n",
       "  'executionSystem': 'designsafe.community.exec.stampede2.nores',\n",
       "  'shortDescription': 'OpenSees is a software framework for simulating the seismic response of structural and geotechnical systems.',\n",
       "  'isPublic': True,\n",
       "  'label': 'OpenSeesMP (V 3.0)',\n",
       "  'lastModified': datetime.datetime(2020, 8, 31, 14, 20, 45, tzinfo=tzoffset(None, -18000)),\n",
       "  '_links': {'self': {'href': 'https://agave.designsafe-ci.org/apps/v2/opensees-mp-3.0.2u2'}}},\n",
       " {'id': 'opensees-sp-stko-3.0.0.6709u1',\n",
       "  'name': 'opensees-sp-stko',\n",
       "  'version': '3.0.0.6709',\n",
       "  'revision': 1,\n",
       "  'executionSystem': 'designsafe.community.exec.stampede2.nores',\n",
       "  'shortDescription': 'OpenSees is a software framework for simulating the seismic response of structural and geotechnical systems.',\n",
       "  'isPublic': True,\n",
       "  'label': 'OpenSeesSP (V 3.0)-STKO',\n",
       "  'lastModified': datetime.datetime(2020, 8, 31, 14, 11, 48, tzinfo=tzoffset(None, -18000)),\n",
       "  '_links': {'self': {'href': 'https://agave.designsafe-ci.org/apps/v2/opensees-sp-stko-3.0.0.6709u1'}}},\n",
       " {'id': 'opensees-mp-stko-3.0.0.6709u1',\n",
       "  'name': 'opensees-mp-stko',\n",
       "  'version': '3.0.0.6709',\n",
       "  'revision': 1,\n",
       "  'executionSystem': 'designsafe.community.exec.stampede2.nores',\n",
       "  'shortDescription': 'OpenSees is a software framework for simulating the seismic response of structural and geotechnical systems.',\n",
       "  'isPublic': True,\n",
       "  'label': 'OpenSeesMP (V 3.0)-STKO',\n",
       "  'lastModified': datetime.datetime(2020, 8, 31, 14, 11, 35, tzinfo=tzoffset(None, -18000)),\n",
       "  '_links': {'self': {'href': 'https://agave.designsafe-ci.org/apps/v2/opensees-mp-stko-3.0.0.6709u1'}}},\n",
       " {'id': 'opensees-mp-2.5.0.66060u1',\n",
       "  'name': 'opensees-mp',\n",
       "  'version': '2.5.0.66060',\n",
       "  'revision': 1,\n",
       "  'executionSystem': 'designsafe.community.exec.stampede2.nores',\n",
       "  'shortDescription': 'OpenSees is a software framework for simulating the seismic response of structural and geotechnical systems.',\n",
       "  'isPublic': True,\n",
       "  'label': 'OpenSeesMP (V 2.5)',\n",
       "  'lastModified': datetime.datetime(2020, 8, 31, 13, 4, 58, tzinfo=tzoffset(None, -18000)),\n",
       "  '_links': {'self': {'href': 'https://agave.designsafe-ci.org/apps/v2/opensees-mp-2.5.0.66060u1'}}},\n",
       " {'id': 'simcenter-openfoam_v7-1.0.0',\n",
       "  'name': 'simcenter-openfoam_v7',\n",
       "  'version': '1.0.0',\n",
       "  'revision': 2,\n",
       "  'executionSystem': 'designsafe.simcenter.exec.stampede2',\n",
       "  'shortDescription': 'OpenFOAM is free, open source software for computational fluid dynamics (CFD).',\n",
       "  'isPublic': False,\n",
       "  'label': 'OpenFOAM (V7)',\n",
       "  'lastModified': datetime.datetime(2020, 8, 24, 11, 38, 28, tzinfo=tzoffset(None, -18000)),\n",
       "  '_links': {'self': {'href': 'https://agave.designsafe-ci.org/apps/v2/simcenter-openfoam_v7-1.0.0'}}},\n",
       " {'id': 'openfoam_v7_p-7.0.0',\n",
       "  'name': 'openfoam_v7_p',\n",
       "  'version': '7.0.0',\n",
       "  'revision': 13,\n",
       "  'executionSystem': 'designsafe.community.exec.stampede2.nores',\n",
       "  'shortDescription': 'OpenFOAM is free, open source software for computational fluid dynamics (CFD).',\n",
       "  'isPublic': False,\n",
       "  'label': 'OpenFOAM (V7)',\n",
       "  'lastModified': datetime.datetime(2020, 8, 24, 10, 29, tzinfo=tzoffset(None, -18000)),\n",
       "  '_links': {'self': {'href': 'https://agave.designsafe-ci.org/apps/v2/openfoam_v7_p-7.0.0'}}},\n",
       " {'id': 'simcenter-openfoam-dakota-1.2.2u1',\n",
       "  'name': 'simcenter-openfoam-dakota',\n",
       "  'version': '1.2.2',\n",
       "  'revision': 1,\n",
       "  'executionSystem': 'designsafe.simcenter.exec.stampede2',\n",
       "  'shortDescription': 'Wind engineering with Uncertainty Quantification',\n",
       "  'isPublic': True,\n",
       "  'label': 'Wind Engineering',\n",
       "  'lastModified': datetime.datetime(2020, 7, 10, 18, 13, 46, tzinfo=tzoffset(None, -18000)),\n",
       "  '_links': {'self': {'href': 'https://agave.designsafe-ci.org/apps/v2/simcenter-openfoam-dakota-1.2.2u1'}}},\n",
       " {'id': 'potree-viewer-0.2u3',\n",
       "  'name': 'potree-viewer',\n",
       "  'version': '0.2',\n",
       "  'revision': 3,\n",
       "  'executionSystem': 'designsafe.community.exec-01',\n",
       "  'shortDescription': 'View pointclouds in Potree format.',\n",
       "  'isPublic': True,\n",
       "  'label': 'Potree Viewer',\n",
       "  'lastModified': datetime.datetime(2020, 6, 15, 14, 4, 37, tzinfo=tzoffset(None, -18000)),\n",
       "  '_links': {'self': {'href': 'https://agave.designsafe-ci.org/apps/v2/potree-viewer-0.2u3'}}},\n",
       " {'id': 'PotreeConverter-0.1u14',\n",
       "  'name': 'PotreeConverter',\n",
       "  'version': '0.1',\n",
       "  'revision': 14,\n",
       "  'executionSystem': 'designsafe.community.exec-01',\n",
       "  'shortDescription': 'This application converts PointClouds to Potree format. The output folder will be placed in the same path as the input.',\n",
       "  'isPublic': True,\n",
       "  'label': 'Potree Converter',\n",
       "  'lastModified': datetime.datetime(2020, 6, 15, 13, 19, 35, tzinfo=tzoffset(None, -18000)),\n",
       "  '_links': {'self': {'href': 'https://agave.designsafe-ci.org/apps/v2/PotreeConverter-0.1u14'}}},\n",
       " {'id': 'visit-2.13.2u1',\n",
       "  'name': 'visit',\n",
       "  'version': '2.13.2',\n",
       "  'revision': 1,\n",
       "  'executionSystem': 'designsafe.community.exec.stampede2.nores',\n",
       "  'shortDescription': 'VisIt is an Open Source, interactive, scalable, visualization, animation and analysis tool.',\n",
       "  'isPublic': True,\n",
       "  'label': 'VisIt',\n",
       "  'lastModified': datetime.datetime(2020, 4, 10, 18, 33, 12, tzinfo=tzoffset(None, -18000)),\n",
       "  '_links': {'self': {'href': 'https://agave.designsafe-ci.org/apps/v2/visit-2.13.2u1'}}},\n",
       " {'id': 'FigureGen-v2-51.0.1u3',\n",
       "  'name': 'FigureGen-v2',\n",
       "  'version': '51.0.1',\n",
       "  'revision': 3,\n",
       "  'executionSystem': 'designsafe.community.exec.stampede2.nores',\n",
       "  'shortDescription': 'FigureGen is a Fortran program that creates images for ADCIRC files.',\n",
       "  'isPublic': True,\n",
       "  'label': 'FigureGen',\n",
       "  'lastModified': datetime.datetime(2020, 4, 9, 20, 7, 42, tzinfo=tzoffset(None, -18000)),\n",
       "  '_links': {'self': {'href': 'https://agave.designsafe-ci.org/apps/v2/FigureGen-v2-51.0.1u3'}}},\n",
       " {'id': 'LS_Pre_Post_11-11.0.0u6',\n",
       "  'name': 'LS_Pre_Post_11',\n",
       "  'version': '11.0.0',\n",
       "  'revision': 6,\n",
       "  'executionSystem': 'designsafe.community.exec.stampede2.nores',\n",
       "  'shortDescription': 'LS-PrePost is interactive advanced pre- and post-processor and model editor from LSTC.',\n",
       "  'isPublic': True,\n",
       "  'label': 'LS-Pre/Post',\n",
       "  'lastModified': datetime.datetime(2020, 4, 9, 19, 47, 42, tzinfo=tzoffset(None, -18000)),\n",
       "  '_links': {'self': {'href': 'https://agave.designsafe-ci.org/apps/v2/LS_Pre_Post_11-11.0.0u6'}}},\n",
       " {'id': 'padcirc-swan-ls5-test-52.01u8',\n",
       "  'name': 'padcirc-swan-ls5-test',\n",
       "  'version': '52.01',\n",
       "  'revision': 8,\n",
       "  'executionSystem': 'designsafe.community.exec.ls5',\n",
       "  'shortDescription': 'Parallel ADCIRC SWAN is a computer program for solving systems of shallow water equations.',\n",
       "  'isPublic': True,\n",
       "  'label': 'PADCIRC SWAN (Lonestar5)',\n",
       "  'lastModified': datetime.datetime(2020, 4, 8, 23, 38, 37, tzinfo=tzoffset(None, -18000)),\n",
       "  '_links': {'self': {'href': 'https://agave.designsafe-ci.org/apps/v2/padcirc-swan-ls5-test-52.01u8'}}},\n",
       " {'id': 'padcirc_swan-net-52.00u13',\n",
       "  'name': 'padcirc_swan-net',\n",
       "  'version': '52.00',\n",
       "  'revision': 13,\n",
       "  'executionSystem': 'designsafe.community.exec.stampede2.nores',\n",
       "  'shortDescription': 'Parallel SWAN and ADCIRC is the fully-coupled model.',\n",
       "  'isPublic': True,\n",
       "  'label': 'PADCIRC SWAN (Stampede2) ',\n",
       "  'lastModified': datetime.datetime(2020, 4, 8, 23, 38, 17, tzinfo=tzoffset(None, -18000)),\n",
       "  '_links': {'self': {'href': 'https://agave.designsafe-ci.org/apps/v2/padcirc_swan-net-52.00u13'}}},\n",
       " {'id': 'opensees-docker-2.5.0.6248u17',\n",
       "  'name': 'opensees-docker',\n",
       "  'version': '2.5.0.6248',\n",
       "  'revision': 17,\n",
       "  'executionSystem': 'designsafe.community.data-01',\n",
       "  'shortDescription': 'OpenSees is a software framework for simulating the seismic response of structural and geotechnical systems.',\n",
       "  'isPublic': True,\n",
       "  'label': 'OpenSees-EXPRESS (V 2.5)',\n",
       "  'lastModified': datetime.datetime(2020, 4, 7, 22, 29, 12, tzinfo=tzoffset(None, -18000)),\n",
       "  '_links': {'self': {'href': 'https://agave.designsafe-ci.org/apps/v2/opensees-docker-2.5.0.6248u17'}}},\n",
       " {'id': 'paraview-ds-exec-01-5.6.0u1',\n",
       "  'name': 'paraview-ds-exec-01',\n",
       "  'version': '5.6.0',\n",
       "  'revision': 1,\n",
       "  'executionSystem': 'designsafe.community.exec-01',\n",
       "  'shortDescription': 'Run an interactive Paraview session on a virtual machine.',\n",
       "  'isPublic': True,\n",
       "  'label': 'Paraview Express',\n",
       "  'lastModified': datetime.datetime(2020, 2, 27, 15, 13, 46, tzinfo=tzoffset(None, -21600)),\n",
       "  '_links': {'self': {'href': 'https://agave.designsafe-ci.org/apps/v2/paraview-ds-exec-01-5.6.0u1'}}},\n",
       " {'id': 'Paraview-Stampede2-5.6.0u2',\n",
       "  'name': 'Paraview-Stampede2',\n",
       "  'version': '5.6.0',\n",
       "  'revision': 2,\n",
       "  'executionSystem': 'designsafe.community.exec.stampede2.nores',\n",
       "  'shortDescription': 'Run an interactive Paraview session on Stampede2.',\n",
       "  'isPublic': True,\n",
       "  'label': 'Paraview',\n",
       "  'lastModified': datetime.datetime(2019, 12, 3, 14, 33, 4, tzinfo=tzoffset(None, -21600)),\n",
       "  '_links': {'self': {'href': 'https://agave.designsafe-ci.org/apps/v2/Paraview-Stampede2-5.6.0u2'}}},\n",
       " {'id': 'stko-ds-exec-01-1.0.0u1',\n",
       "  'name': 'stko-ds-exec-01',\n",
       "  'version': '1.0.0',\n",
       "  'revision': 1,\n",
       "  'executionSystem': 'designsafe.community.exec-01',\n",
       "  'shortDescription': 'Run an interactive STKO (Scientific ToolKit for OpenSees) session on a virtual machine.',\n",
       "  'isPublic': True,\n",
       "  'label': 'STKO',\n",
       "  'lastModified': datetime.datetime(2019, 11, 16, 12, 43, 51, tzinfo=tzoffset(None, -21600)),\n",
       "  '_links': {'self': {'href': 'https://agave.designsafe-ci.org/apps/v2/stko-ds-exec-01-1.0.0u1'}}},\n",
       " {'id': 'simcenter-openfoam-dakota-1.1.0u2',\n",
       "  'name': 'simcenter-openfoam-dakota',\n",
       "  'version': '1.1.0',\n",
       "  'revision': 2,\n",
       "  'executionSystem': 'designsafe.simcenter.exec.stampede2',\n",
       "  'shortDescription': 'Wind engineering with Uncertainty Quantification',\n",
       "  'isPublic': True,\n",
       "  'label': 'Wind Engineering',\n",
       "  'lastModified': datetime.datetime(2019, 10, 17, 18, 10, 43, tzinfo=tzoffset(None, -18000)),\n",
       "  '_links': {'self': {'href': 'https://agave.designsafe-ci.org/apps/v2/simcenter-openfoam-dakota-1.1.0u2'}}},\n",
       " {'id': 'simcenter-openfoam-dakota-1.1.0u1',\n",
       "  'name': 'simcenter-openfoam-dakota',\n",
       "  'version': '1.1.0',\n",
       "  'revision': 1,\n",
       "  'executionSystem': 'designsafe.simcenter.exec.stampede2',\n",
       "  'shortDescription': 'Wind engineering with Uncertainty Quantification',\n",
       "  'isPublic': True,\n",
       "  'label': 'Wind Engineering',\n",
       "  'lastModified': datetime.datetime(2019, 10, 9, 10, 25, 40, tzinfo=tzoffset(None, -18000)),\n",
       "  '_links': {'self': {'href': 'https://agave.designsafe-ci.org/apps/v2/simcenter-openfoam-dakota-1.1.0u1'}}},\n",
       " {'id': 'compress-0.4u6',\n",
       "  'name': 'compress',\n",
       "  'version': '0.4',\n",
       "  'revision': 6,\n",
       "  'executionSystem': 'designsafe.community.data-01',\n",
       "  'shortDescription': 'Compress files or a folder.',\n",
       "  'isPublic': True,\n",
       "  'label': 'Compress Files',\n",
       "  'lastModified': datetime.datetime(2019, 7, 24, 18, 28, 8, tzinfo=tzoffset(None, -18000)),\n",
       "  '_links': {'self': {'href': 'https://agave.designsafe-ci.org/apps/v2/compress-0.4u6'}}},\n",
       " {'id': 'extract-0.3u2',\n",
       "  'name': 'extract',\n",
       "  'version': '0.3',\n",
       "  'revision': 2,\n",
       "  'executionSystem': 'designsafe.community.data-01',\n",
       "  'shortDescription': 'Extract a tar, tar.gz, tgz, gz, or zip file.',\n",
       "  'isPublic': True,\n",
       "  'label': 'Extract Compressed File',\n",
       "  'lastModified': datetime.datetime(2019, 7, 24, 18, 17, 5, tzinfo=tzoffset(None, -18000)),\n",
       "  '_links': {'self': {'href': 'https://agave.designsafe-ci.org/apps/v2/extract-0.3u2'}}},\n",
       " {'id': 'simcenter-openfoam-dakota-1.0.0u1',\n",
       "  'name': 'simcenter-openfoam-dakota',\n",
       "  'version': '1.0.0',\n",
       "  'revision': 1,\n",
       "  'executionSystem': 'designsafe.simcenter.exec.stampede2',\n",
       "  'shortDescription': 'Wind engineering with Uncertainty Quantification',\n",
       "  'isPublic': True,\n",
       "  'label': 'Wind Engineering',\n",
       "  'lastModified': datetime.datetime(2019, 7, 9, 11, 58, 34, tzinfo=tzoffset(None, -18000)),\n",
       "  '_links': {'self': {'href': 'https://agave.designsafe-ci.org/apps/v2/simcenter-openfoam-dakota-1.0.0u1'}}},\n",
       " {'id': 'padcircls5-52T-52.00u8',\n",
       "  'name': 'padcircls5-52T',\n",
       "  'version': '52.00',\n",
       "  'revision': 8,\n",
       "  'executionSystem': 'designsafe.community.exec.ls5',\n",
       "  'shortDescription': 'Parallel ADCIRC is a computer program for solving systems of shallow water equations.',\n",
       "  'isPublic': True,\n",
       "  'label': 'PADCIRC (Lonestar5)T',\n",
       "  'lastModified': datetime.datetime(2019, 5, 29, 11, 22, 59, tzinfo=tzoffset(None, -18000)),\n",
       "  '_links': {'self': {'href': 'https://agave.designsafe-ci.org/apps/v2/padcircls5-52T-52.00u8'}}},\n",
       " {'id': 'padcircls5-52T-52.00u6',\n",
       "  'name': 'padcircls5-52T',\n",
       "  'version': '52.00',\n",
       "  'revision': 6,\n",
       "  'executionSystem': 'designsafe.community.exec.ls5',\n",
       "  'shortDescription': 'Parallel ADCIRC is a computer program for solving systems of shallow water equations.',\n",
       "  'isPublic': True,\n",
       "  'label': 'PADCIRC (Lonestar5)T',\n",
       "  'lastModified': datetime.datetime(2019, 5, 29, 11, 13, 50, tzinfo=tzoffset(None, -18000)),\n",
       "  '_links': {'self': {'href': 'https://agave.designsafe-ci.org/apps/v2/padcircls5-52T-52.00u6'}}},\n",
       " {'id': 'padcircls5-52T-52.00u5',\n",
       "  'name': 'padcircls5-52T',\n",
       "  'version': '52.00',\n",
       "  'revision': 5,\n",
       "  'executionSystem': 'designsafe.community.exec.ls5',\n",
       "  'shortDescription': 'Parallel ADCIRC is a computer program for solving systems of shallow water equations.',\n",
       "  'isPublic': True,\n",
       "  'label': 'PADCIRC (Lonestar5)T',\n",
       "  'lastModified': datetime.datetime(2019, 5, 29, 11, 7, 13, tzinfo=tzoffset(None, -18000)),\n",
       "  '_links': {'self': {'href': 'https://agave.designsafe-ci.org/apps/v2/padcircls5-52T-52.00u5'}}},\n",
       " {'id': 'padcircls5-52T-52.00u4',\n",
       "  'name': 'padcircls5-52T',\n",
       "  'version': '52.00',\n",
       "  'revision': 4,\n",
       "  'executionSystem': 'designsafe.community.exec.ls5',\n",
       "  'shortDescription': 'Parallel ADCIRC is a computer program for solving systems of shallow water equations.',\n",
       "  'isPublic': True,\n",
       "  'label': 'PADCIRC (Lonestar5)T',\n",
       "  'lastModified': datetime.datetime(2019, 5, 29, 10, 51, 56, tzinfo=tzoffset(None, -18000)),\n",
       "  '_links': {'self': {'href': 'https://agave.designsafe-ci.org/apps/v2/padcircls5-52T-52.00u4'}}},\n",
       " {'id': 'padcircls5-52T-52.00u3',\n",
       "  'name': 'padcircls5-52T',\n",
       "  'version': '52.00',\n",
       "  'revision': 3,\n",
       "  'executionSystem': 'designsafe.community.exec.ls5',\n",
       "  'shortDescription': 'Parallel ADCIRC is a computer program for solving systems of shallow water equations.',\n",
       "  'isPublic': True,\n",
       "  'label': 'PADCIRC (Lonestar5)T',\n",
       "  'lastModified': datetime.datetime(2019, 5, 29, 10, 47, 31, tzinfo=tzoffset(None, -18000)),\n",
       "  '_links': {'self': {'href': 'https://agave.designsafe-ci.org/apps/v2/padcircls5-52T-52.00u3'}}},\n",
       " {'id': 'padcircls5-52T-52.00u2',\n",
       "  'name': 'padcircls5-52T',\n",
       "  'version': '52.00',\n",
       "  'revision': 2,\n",
       "  'executionSystem': 'designsafe.community.exec.ls5',\n",
       "  'shortDescription': 'Parallel ADCIRC is a computer program for solving systems of shallow water equations.',\n",
       "  'isPublic': True,\n",
       "  'label': 'PADCIRC (Lonestar5)T',\n",
       "  'lastModified': datetime.datetime(2019, 5, 29, 10, 43, 5, tzinfo=tzoffset(None, -18000)),\n",
       "  '_links': {'self': {'href': 'https://agave.designsafe-ci.org/apps/v2/padcircls5-52T-52.00u2'}}},\n",
       " {'id': 'padcircswanls5-52t-52.00u1',\n",
       "  'name': 'padcircswanls5-52t',\n",
       "  'version': '52.00',\n",
       "  'revision': 1,\n",
       "  'executionSystem': 'designsafe.community.exec.ls5',\n",
       "  'shortDescription': 'Parallel ADCIRC SWAN is a computer program for solving systems of shallow water equations.',\n",
       "  'isPublic': True,\n",
       "  'label': 'PADCIRC SWAN (Lonestar5)T',\n",
       "  'lastModified': datetime.datetime(2019, 5, 29, 10, 37, 14, tzinfo=tzoffset(None, -18000)),\n",
       "  '_links': {'self': {'href': 'https://agave.designsafe-ci.org/apps/v2/padcircswanls5-52t-52.00u1'}}},\n",
       " {'id': 'Kalpana-1.0.2u11',\n",
       "  'name': 'Kalpana',\n",
       "  'version': '1.0.2',\n",
       "  'revision': 11,\n",
       "  'executionSystem': 'designsafe.community.exec.stampede2.nores',\n",
       "  'shortDescription': 'Kalpana converts ADCIRC output files in netCDF format to GIS shapefiles.',\n",
       "  'isPublic': True,\n",
       "  'label': 'Kalpana',\n",
       "  'lastModified': datetime.datetime(2019, 5, 29, 10, 24, 26, tzinfo=tzoffset(None, -18000)),\n",
       "  '_links': {'self': {'href': 'https://agave.designsafe-ci.org/apps/v2/Kalpana-1.0.2u11'}}},\n",
       " {'id': 'Hurricane_data_analysis-0.1.2u3',\n",
       "  'name': 'Hurricane_data_analysis',\n",
       "  'version': '0.1.2',\n",
       "  'revision': 3,\n",
       "  'executionSystem': 'designsafe.community.exec.stampede2.nores',\n",
       "  'shortDescription': 'Run an interactive MATLAB 2015b session on Stampede. Submit a help ticket to get your license configured or approved.',\n",
       "  'isPublic': True,\n",
       "  'label': 'Hurricane Data Analysis',\n",
       "  'lastModified': datetime.datetime(2019, 5, 15, 10, 50, 34, tzinfo=tzoffset(None, -18000)),\n",
       "  '_links': {'self': {'href': 'https://agave.designsafe-ci.org/apps/v2/Hurricane_data_analysis-0.1.2u3'}}},\n",
       " {'id': 'Dakota-6.6.0.0u3',\n",
       "  'name': 'Dakota',\n",
       "  'version': '6.6.0.0',\n",
       "  'revision': 3,\n",
       "  'executionSystem': 'designsafe.community.exec.stampede2.nores',\n",
       "  'shortDescription': 'Dakota',\n",
       "  'isPublic': True,\n",
       "  'label': 'Dakota',\n",
       "  'lastModified': datetime.datetime(2018, 10, 26, 16, 58, 54, tzinfo=tzoffset(None, -18000)),\n",
       "  '_links': {'self': {'href': 'https://agave.designsafe-ci.org/apps/v2/Dakota-6.6.0.0u3'}}},\n",
       " {'id': 'cwe-serial-1.0.0u3',\n",
       "  'name': 'cwe-serial',\n",
       "  'version': '1.0.0',\n",
       "  'revision': 3,\n",
       "  'executionSystem': 'designsafe.simcenter.exec.stampede2',\n",
       "  'shortDescription': 'CWE Serial',\n",
       "  'isPublic': True,\n",
       "  'label': 'CWE Serial',\n",
       "  'lastModified': datetime.datetime(2018, 10, 2, 16, 56, 9, tzinfo=tzoffset(None, -18000)),\n",
       "  '_links': {'self': {'href': 'https://agave.designsafe-ci.org/apps/v2/cwe-serial-1.0.0u3'}}},\n",
       " {'id': 'cwe-serial-1.0.0u2',\n",
       "  'name': 'cwe-serial',\n",
       "  'version': '1.0.0',\n",
       "  'revision': 2,\n",
       "  'executionSystem': 'designsafe.simcenter.exec.stampede2',\n",
       "  'shortDescription': 'CWE Serial',\n",
       "  'isPublic': True,\n",
       "  'label': 'cwe-serial',\n",
       "  'lastModified': datetime.datetime(2018, 10, 2, 16, 54, 44, tzinfo=tzoffset(None, -18000)),\n",
       "  '_links': {'self': {'href': 'https://agave.designsafe-ci.org/apps/v2/cwe-serial-1.0.0u2'}}},\n",
       " {'id': 'cwe-parallel-1.0.0u2',\n",
       "  'name': 'cwe-parallel',\n",
       "  'version': '1.0.0',\n",
       "  'revision': 2,\n",
       "  'executionSystem': 'designsafe.simcenter.exec.stampede2',\n",
       "  'shortDescription': 'Invokes parallel running tasks for CWE on stampede 2',\n",
       "  'isPublic': True,\n",
       "  'label': 'CWE Parallel',\n",
       "  'lastModified': datetime.datetime(2018, 10, 2, 16, 51, 55, tzinfo=tzoffset(None, -18000)),\n",
       "  '_links': {'self': {'href': 'https://agave.designsafe-ci.org/apps/v2/cwe-parallel-1.0.0u2'}}},\n",
       " {'id': 'simcenter-dakota-1.0.0u1',\n",
       "  'name': 'simcenter-dakota',\n",
       "  'version': '1.0.0',\n",
       "  'revision': 1,\n",
       "  'executionSystem': 'designsafe.simcenter.exec.stampede2',\n",
       "  'shortDescription': 'Dakota',\n",
       "  'isPublic': True,\n",
       "  'label': 'dakota',\n",
       "  'lastModified': datetime.datetime(2018, 10, 1, 11, 22, 2, tzinfo=tzoffset(None, -18000)),\n",
       "  '_links': {'self': {'href': 'https://agave.designsafe-ci.org/apps/v2/simcenter-dakota-1.0.0u1'}}},\n",
       " {'id': 'cwe-parallel-1.0.0u1',\n",
       "  'name': 'cwe-parallel',\n",
       "  'version': '1.0.0',\n",
       "  'revision': 1,\n",
       "  'executionSystem': 'designsafe.simcenter.exec.stampede2',\n",
       "  'shortDescription': 'Invokes parallel running tasks for CWE on stampede 2',\n",
       "  'isPublic': True,\n",
       "  'label': None,\n",
       "  'lastModified': datetime.datetime(2018, 9, 28, 10, 37, 30, tzinfo=tzoffset(None, -18000)),\n",
       "  '_links': {'self': {'href': 'https://agave.designsafe-ci.org/apps/v2/cwe-parallel-1.0.0u1'}}},\n",
       " {'id': 'cwe-serial-1.0.0u1',\n",
       "  'name': 'cwe-serial',\n",
       "  'version': '1.0.0',\n",
       "  'revision': 1,\n",
       "  'executionSystem': 'designsafe.simcenter.exec.stampede2',\n",
       "  'shortDescription': 'CWE Serial',\n",
       "  'isPublic': True,\n",
       "  'label': 'cwe-serial',\n",
       "  'lastModified': datetime.datetime(2018, 9, 28, 10, 18, 6, tzinfo=tzoffset(None, -18000)),\n",
       "  '_links': {'self': {'href': 'https://agave.designsafe-ci.org/apps/v2/cwe-serial-1.0.0u1'}}},\n",
       " {'id': 'dakota-6.6.0u1',\n",
       "  'name': 'dakota',\n",
       "  'version': '6.6.0',\n",
       "  'revision': 1,\n",
       "  'executionSystem': 'designsafe.simcenter.exec.stampede2',\n",
       "  'shortDescription': 'Dakota',\n",
       "  'isPublic': True,\n",
       "  'label': 'dakota',\n",
       "  'lastModified': datetime.datetime(2018, 7, 3, 15, 16, 4, tzinfo=tzoffset(None, -18000)),\n",
       "  '_links': {'self': {'href': 'https://agave.designsafe-ci.org/apps/v2/dakota-6.6.0u1'}}},\n",
       " {'id': 'Dakota-6.6.0.0u1',\n",
       "  'name': 'Dakota',\n",
       "  'version': '6.6.0.0',\n",
       "  'revision': 1,\n",
       "  'executionSystem': 'designsafe.community.exec.stampede2.nores',\n",
       "  'shortDescription': 'Dakota',\n",
       "  'isPublic': True,\n",
       "  'label': 'Dakota',\n",
       "  'lastModified': datetime.datetime(2018, 5, 8, 10, 21, 53, tzinfo=tzoffset(None, -18000)),\n",
       "  '_links': {'self': {'href': 'https://agave.designsafe-ci.org/apps/v2/Dakota-6.6.0.0u1'}}},\n",
       " {'id': 'swan_adcirc_parallel-51.33.0u1',\n",
       "  'name': 'swan_adcirc_parallel',\n",
       "  'version': '51.33.0',\n",
       "  'revision': 1,\n",
       "  'executionSystem': 'designsafe.community.exec.stampede2.nores',\n",
       "  'shortDescription': 'Parallel SWAN+ADCIRC is a computer program for solving systems of shallow water equations.',\n",
       "  'isPublic': True,\n",
       "  'label': 'Parallel SWAN+ADCIRC 160 cores',\n",
       "  'lastModified': datetime.datetime(2018, 4, 3, 15, 28, 26, tzinfo=tzoffset(None, -18000)),\n",
       "  '_links': {'self': {'href': 'https://agave.designsafe-ci.org/apps/v2/swan_adcirc_parallel-51.33.0u1'}}},\n",
       " {'id': 'adcirc-parallel-51.33.0u1',\n",
       "  'name': 'adcirc-parallel',\n",
       "  'version': '51.33.0',\n",
       "  'revision': 1,\n",
       "  'executionSystem': 'designsafe.community.exec.stampede2.nores',\n",
       "  'shortDescription': 'Parallel ADCIRC is a computer program for solving systems of shallow water equations.',\n",
       "  'isPublic': True,\n",
       "  'label': 'Parallel ADCIRC',\n",
       "  'lastModified': datetime.datetime(2018, 4, 3, 15, 13, 28, tzinfo=tzoffset(None, -18000)),\n",
       "  '_links': {'self': {'href': 'https://agave.designsafe-ci.org/apps/v2/adcirc-parallel-51.33.0u1'}}},\n",
       " {'id': 'adcirc-51.33u18',\n",
       "  'name': 'adcirc',\n",
       "  'version': '51.33',\n",
       "  'revision': 18,\n",
       "  'executionSystem': 'designsafe.community.exec.stampede2.nores',\n",
       "  'shortDescription': 'ADCIRC is a system of computer programs for solving time dependent, free surface circulation and transport problems.',\n",
       "  'isPublic': True,\n",
       "  'label': 'ADCIRC',\n",
       "  'lastModified': datetime.datetime(2018, 4, 3, 15, 1, 23, tzinfo=tzoffset(None, -18000)),\n",
       "  '_links': {'self': {'href': 'https://agave.designsafe-ci.org/apps/v2/adcirc-51.33u18'}}},\n",
       " {'id': 'adcirc-parallel-ls5-51.33u1',\n",
       "  'name': 'adcirc-parallel-ls5',\n",
       "  'version': '51.33',\n",
       "  'revision': 1,\n",
       "  'executionSystem': 'designsafe.community.exec.ls5',\n",
       "  'shortDescription': 'ADCIRC is a computer program for solving systems of shallow water equations with applications to hurricane storm surge modeling',\n",
       "  'isPublic': True,\n",
       "  'label': 'Parallel ADCIRC (Lonestar5)',\n",
       "  'lastModified': datetime.datetime(2017, 8, 15, 14, 6, 49, tzinfo=tzoffset(None, -18000)),\n",
       "  '_links': {'self': {'href': 'https://agave.designsafe-ci.org/apps/v2/adcirc-parallel-ls5-51.33u1'}}},\n",
       " {'id': 'swan_adcirc-parallel-ls5-240-51.33u1',\n",
       "  'name': 'swan_adcirc-parallel-ls5-240',\n",
       "  'version': '51.33',\n",
       "  'revision': 1,\n",
       "  'executionSystem': 'designsafe.community.exec.ls5',\n",
       "  'shortDescription': 'SWAN+ADCIRC is a computer program for solving systems of shallow water equations applicable to hurricane storm surge modeling.',\n",
       "  'isPublic': True,\n",
       "  'label': 'Parallel SWAN+ADCIRC 240 cores (Lonestar5)',\n",
       "  'lastModified': datetime.datetime(2017, 8, 15, 14, 6, 38, tzinfo=tzoffset(None, -18000)),\n",
       "  '_links': {'self': {'href': 'https://agave.designsafe-ci.org/apps/v2/swan_adcirc-parallel-ls5-240-51.33u1'}}},\n",
       " {'id': 'opensees-docker-2.5.0.6248u11',\n",
       "  'name': 'opensees-docker',\n",
       "  'version': '2.5.0.6248',\n",
       "  'revision': 11,\n",
       "  'executionSystem': 'designsafe.community.data-01',\n",
       "  'shortDescription': 'OpenSees is a software framework for simulating the seismic response of structural and geotechnical systems.',\n",
       "  'isPublic': True,\n",
       "  'label': 'OpenSees-EXPRESS',\n",
       "  'lastModified': datetime.datetime(2017, 8, 3, 15, 56, 1, tzinfo=tzoffset(None, -18000)),\n",
       "  '_links': {'self': {'href': 'https://agave.designsafe-ci.org/apps/v2/opensees-docker-2.5.0.6248u11'}}}]"
      ]
     },
     "execution_count": 35,
     "metadata": {},
     "output_type": "execute_result"
    }
   ],
   "source": [
    "ag.apps.list()"
   ]
  },
  {
   "cell_type": "markdown",
   "metadata": {},
   "source": [
    "### Accessing OpenFOAM\n",
    "\n",
    "OpenFOAM is of interest to us. But it is hard to find its index from the above list. However, we can instead search for OpenFOAM using the appID. We will retrieve the app information using the ID (id) tage and store it in a local variable to use it."
   ]
  },
  {
   "cell_type": "code",
   "execution_count": 36,
   "metadata": {},
   "outputs": [],
   "source": [
    "app = ag.apps.get(appId = 'openfoam-7.0u3')"
   ]
  },
  {
   "cell_type": "markdown",
   "metadata": {},
   "source": [
    "### Information about OpenFOAM\n",
    "\n",
    "Check what information is available in the full app description"
   ]
  },
  {
   "cell_type": "code",
   "execution_count": 38,
   "metadata": {
    "scrolled": true
   },
   "outputs": [
    {
     "data": {
      "text/plain": [
       "{'id': 'openfoam-7.0u3',\n",
       " 'name': 'openfoam',\n",
       " 'icon': None,\n",
       " 'uuid': '3450676094275031531-242ac11b-0001-005',\n",
       " 'parallelism': 'PARALLEL',\n",
       " 'defaultProcessorsPerNode': 64,\n",
       " 'defaultMemoryPerNode': 1,\n",
       " 'defaultNodeCount': 1,\n",
       " 'defaultMaxRunTime': '48:00:00',\n",
       " 'defaultQueue': 'normal',\n",
       " 'version': '7.0',\n",
       " 'revision': 3,\n",
       " 'isPublic': True,\n",
       " 'helpURI': '',\n",
       " 'label': 'OpenFOAM (V7)',\n",
       " 'owner': 'ds_apps',\n",
       " 'shortDescription': 'OpenFOAM is free, open source software for computational fluid dynamics (CFD).',\n",
       " 'longDescription': 'OpenFOAM is free, open source software for computational fluid dynamics (CFD).',\n",
       " 'tags': ['designsafe', 'appCategory:Simulation', 'appIcon:OpenFOAM'],\n",
       " 'ontology': [],\n",
       " 'executionType': 'HPC',\n",
       " 'executionSystem': 'designsafe.community.exec.stampede2.nores',\n",
       " 'deploymentPath': '/applications/openfoam-7.0u3.zip',\n",
       " 'deploymentSystem': 'designsafe.storage.default',\n",
       " 'templatePath': 'wrapper.sh',\n",
       " 'testPath': 'test/test.sh',\n",
       " 'checkpointable': False,\n",
       " 'lastModified': datetime.datetime(2020, 10, 19, 12, 40, 33, tzinfo=tzoffset(None, -18000)),\n",
       " 'modules': ['load openfoam'],\n",
       " 'available': True,\n",
       " 'inputs': [{'id': 'inputDirectory',\n",
       "   'value': {'validator': '',\n",
       "    'visible': True,\n",
       "    'required': True,\n",
       "    'order': 0,\n",
       "    'enquote': False,\n",
       "    'default': 'agave://designsafe.storage.community//app_examples/openfoam/openfoam_DH1'},\n",
       "   'details': {'label': 'Case Directory',\n",
       "    'description': \"The directory containing your OpenFOAM case. This should contain your '0', 'constant', and 'system' directories. You can drag the link for the directory from the Data Browser on the left, or click the 'Select Input' button and then select the directory. To try out a sample dataset copy and paste 'agave://designsafe.storage.community//app_examples/openfoam/openfoam_DH1' above.\",\n",
       "    'argument': None,\n",
       "    'showArgument': False,\n",
       "    'repeatArgument': False},\n",
       "   'semantics': {'minCardinality': 1,\n",
       "    'maxCardinality': 1,\n",
       "    'ontology': ['xsd:string'],\n",
       "    'fileTypes': ['raw-0']}}],\n",
       " 'parameters': [{'id': 'mesh',\n",
       "   'value': {'visible': True,\n",
       "    'required': True,\n",
       "    'type': 'enumeration',\n",
       "    'order': 0,\n",
       "    'enquote': False,\n",
       "    'default': 'On',\n",
       "    'enum_values': [{'On': 'On'}, {'Off': 'Off'}]},\n",
       "   'details': {'label': 'Mesh',\n",
       "    'description': 'Please choose the option for mesh generation.',\n",
       "    'argument': None,\n",
       "    'showArgument': False,\n",
       "    'repeatArgument': False},\n",
       "   'semantics': {'minCardinality': 1,\n",
       "    'maxCardinality': 1,\n",
       "    'ontology': ['xs:enumeration', 'xs:string']}},\n",
       "  {'id': 'solver',\n",
       "   'value': {'visible': True,\n",
       "    'required': True,\n",
       "    'type': 'enumeration',\n",
       "    'order': 0,\n",
       "    'enquote': False,\n",
       "    'default': 'pisoFoam',\n",
       "    'enum_values': [{'pisoFoam': 'pisoFoam'},\n",
       "     {'interFoam': 'interFoam'},\n",
       "     {'simpleFoam': 'simpleFoam'},\n",
       "     {'pimpleFoam': 'pimpleFoam'},\n",
       "     {'icoFoam': 'icoFoam'},\n",
       "     {'potentialFoam': 'potentialFoam'},\n",
       "     {'olaFlow': 'olaFlow'}]},\n",
       "   'details': {'label': 'Solver',\n",
       "    'description': 'Select pisoFoam for transient incompressible turbulence flow, interFoam for 2 incompressible isothermal immiscible fluids using a VOF phase-fraction based interface capture approach, simpleFoam for steady-state incompressible turbulence flow,icoFoam for solving the incompressible laminar Navier-Stokes equations using the PISO algorithm, potentialFOAM for solving velocity potential to provide velocity and incompressible flux fields, typically used to initialise viscous calculations. ',\n",
       "    'argument': None,\n",
       "    'showArgument': False,\n",
       "    'repeatArgument': False},\n",
       "   'semantics': {'minCardinality': 1,\n",
       "    'maxCardinality': 1,\n",
       "    'ontology': ['xs:enumeration', 'xs:string']}},\n",
       "  {'id': 'decomp',\n",
       "   'value': {'visible': True,\n",
       "    'required': True,\n",
       "    'type': 'enumeration',\n",
       "    'order': 0,\n",
       "    'enquote': False,\n",
       "    'default': 'On',\n",
       "    'enum_values': [{'On': 'On'}, {'Off': 'Off'}]},\n",
       "   'details': {'label': 'Decomposition',\n",
       "    'description': 'Please choose the option for domain decomposition.',\n",
       "    'argument': None,\n",
       "    'showArgument': False,\n",
       "    'repeatArgument': False},\n",
       "   'semantics': {'minCardinality': 1,\n",
       "    'maxCardinality': 1,\n",
       "    'ontology': ['xs:enumeration', 'xs:string']}}],\n",
       " 'outputs': [],\n",
       " '_links': {'self': {'href': 'https://agave.designsafe-ci.org/apps/v2/openfoam-7.0u3'},\n",
       "  'executionSystem': {'href': 'https://agave.designsafe-ci.org/systems/v2/designsafe.community.exec.stampede2.nores'},\n",
       "  'storageSystem': {'href': 'https://agave.designsafe-ci.org/systems/v2/designsafe.storage.default'},\n",
       "  'history': {'href': 'https://agave.designsafe-ci.org/apps/v2/openfoam-7.0u3/history'},\n",
       "  'metadata': {'href': 'https://agave.designsafe-ci.org/meta/v2/data/?q=%7B%22associationIds%22%3A%223450676094275031531-242ac11b-0001-005%22%7D'},\n",
       "  'owner': {'href': 'https://agave.designsafe-ci.org/profiles/v2/ds_apps'},\n",
       "  'permissions': {'href': 'https://agave.designsafe-ci.org/apps/v2/openfoam-7.0u3/pems'}}}"
      ]
     },
     "execution_count": 38,
     "metadata": {},
     "output_type": "execute_result"
    }
   ],
   "source": [
    "app"
   ]
  },
  {
   "cell_type": "markdown",
   "metadata": {},
   "source": [
    "### OpenFOAM parameters\n",
    "\n",
    "Get the list of parameters required to run OpenFOAM. We will create a job description using the required parameters. This includes information about solver used, domain decomposition, mesh generation etc."
   ]
  },
  {
   "cell_type": "code",
   "execution_count": 39,
   "metadata": {
    "scrolled": true
   },
   "outputs": [
    {
     "data": {
      "text/plain": [
       "[{'id': 'mesh',\n",
       "  'value': {'visible': True,\n",
       "   'required': True,\n",
       "   'type': 'enumeration',\n",
       "   'order': 0,\n",
       "   'enquote': False,\n",
       "   'default': 'On',\n",
       "   'enum_values': [{'On': 'On'}, {'Off': 'Off'}]},\n",
       "  'details': {'label': 'Mesh',\n",
       "   'description': 'Please choose the option for mesh generation.',\n",
       "   'argument': None,\n",
       "   'showArgument': False,\n",
       "   'repeatArgument': False},\n",
       "  'semantics': {'minCardinality': 1,\n",
       "   'maxCardinality': 1,\n",
       "   'ontology': ['xs:enumeration', 'xs:string']}},\n",
       " {'id': 'solver',\n",
       "  'value': {'visible': True,\n",
       "   'required': True,\n",
       "   'type': 'enumeration',\n",
       "   'order': 0,\n",
       "   'enquote': False,\n",
       "   'default': 'pisoFoam',\n",
       "   'enum_values': [{'pisoFoam': 'pisoFoam'},\n",
       "    {'interFoam': 'interFoam'},\n",
       "    {'simpleFoam': 'simpleFoam'},\n",
       "    {'pimpleFoam': 'pimpleFoam'},\n",
       "    {'icoFoam': 'icoFoam'},\n",
       "    {'potentialFoam': 'potentialFoam'},\n",
       "    {'olaFlow': 'olaFlow'}]},\n",
       "  'details': {'label': 'Solver',\n",
       "   'description': 'Select pisoFoam for transient incompressible turbulence flow, interFoam for 2 incompressible isothermal immiscible fluids using a VOF phase-fraction based interface capture approach, simpleFoam for steady-state incompressible turbulence flow,icoFoam for solving the incompressible laminar Navier-Stokes equations using the PISO algorithm, potentialFOAM for solving velocity potential to provide velocity and incompressible flux fields, typically used to initialise viscous calculations. ',\n",
       "   'argument': None,\n",
       "   'showArgument': False,\n",
       "   'repeatArgument': False},\n",
       "  'semantics': {'minCardinality': 1,\n",
       "   'maxCardinality': 1,\n",
       "   'ontology': ['xs:enumeration', 'xs:string']}},\n",
       " {'id': 'decomp',\n",
       "  'value': {'visible': True,\n",
       "   'required': True,\n",
       "   'type': 'enumeration',\n",
       "   'order': 0,\n",
       "   'enquote': False,\n",
       "   'default': 'On',\n",
       "   'enum_values': [{'On': 'On'}, {'Off': 'Off'}]},\n",
       "  'details': {'label': 'Decomposition',\n",
       "   'description': 'Please choose the option for domain decomposition.',\n",
       "   'argument': None,\n",
       "   'showArgument': False,\n",
       "   'repeatArgument': False},\n",
       "  'semantics': {'minCardinality': 1,\n",
       "   'maxCardinality': 1,\n",
       "   'ontology': ['xs:enumeration', 'xs:string']}}]"
      ]
     },
     "execution_count": 39,
     "metadata": {},
     "output_type": "execute_result"
    }
   ],
   "source": [
    "app.parameters"
   ]
  },
  {
   "cell_type": "markdown",
   "metadata": {},
   "source": [
    "<hr style=\"border:2px solid gray\"> </hr>"
   ]
  },
  {
   "cell_type": "markdown",
   "metadata": {},
   "source": [
    "## Step 5/8: Setting up an OpenFOAM job on Design-Safe\n",
    "\n",
    "Here, we will describe our job inputs and parameter. This is equivalent to a script to submit the job to a supercomputing cluster. These can often be described through fill-in text boxes on the Design-Safe Research Workspace. Information given here include:\n",
    "\n",
    "**Job related information**\n",
    "- **name**: Name of the job. This is your choice to differentiate between different job runs\n",
    "- **appId**: This is the ID of the app (OpenFOAM) that we would like to use. Please see above where we already determined the details about the app including the appID\n",
    "\n",
    "**OpenFOAM related information** \n",
    "- **parameters**: Parameters for the OpenFOAM simulation\n",
    "- **Mesh**: Should it run blockmesh and/or snappyHexMesh: Yes (On) or No (Off)\n",
    "- **decomp**: Do we want to run it in parallel (On) or in serial(Off)\n",
    "- **solver**: Name of OpenFOAM solver to be used\n",
    "- **inputDirectory**: Directory in which OpenFOAM files are stored\n",
    "\n",
    "**Server related information**\n",
    "- **maxRunTime**: Total run time on the cluster (maximum is 48 hours)\n",
    "- **nodeCount**: Number of nodes to be used for this job\n",
    "- **processorsPerNode**: Number of processors per node to be used for this job\n",
    "\n",
    "**System related information**\n",
    "- **archive**: The results will be available in the archive folder. Do not change this unless you are sure.\n",
    "- **archiveSystem**: Default storage system. Do not change this unless you are sure."
   ]
  },
  {
   "cell_type": "code",
   "execution_count": 53,
   "metadata": {},
   "outputs": [
    {
     "data": {
      "text/html": [
       "\n",
       "        <iframe\n",
       "            width=\"560\"\n",
       "            height=\"315\"\n",
       "            src=\"https://www.youtube.com/embed/_mFBNzjp5u8?rel=0&amp;controls=1&amp;showinfo=0\"\n",
       "            frameborder=\"0\"\n",
       "            allowfullscreen\n",
       "        ></iframe>\n",
       "        "
      ],
      "text/plain": [
       "<IPython.lib.display.IFrame at 0x7fbb0e7efbe0>"
      ]
     },
     "metadata": {},
     "output_type": "display_data"
    }
   ],
   "source": [
    "## Setting up a job on Openfoam (L01f)\n",
    "display(IFrame(('https://www.youtube.com/embed/_mFBNzjp5u8?rel=0&amp;controls=1&amp;showinfo=0'), width=560, height=315))"
   ]
  },
  {
   "cell_type": "markdown",
   "metadata": {},
   "source": [
    "### Setup the job\n",
    "\n",
    "Let us define the job details in order to submit it to the cloud. Lets run a sample job for about 5 minutes."
   ]
  },
  {
   "cell_type": "code",
   "execution_count": 40,
   "metadata": {},
   "outputs": [],
   "source": [
    "jobdetails = {\n",
    "\t\"name\": \"OpenFOAM-Demo\",\n",
    "\t\"appId\": \"openfoam-7.0u3\",\n",
    "\t\"maxRunTime\": \"00:02:00\",\n",
    "\t\"nodeCount\": 1,\n",
    "\t\"processorsPerNode\": 1,\n",
    "\t\"archive\": True,\n",
    "\t\"archiveSystem\": \"designsafe.storage.default\",\n",
    "\t\"parameters\": {\n",
    "        \"mesh\": \"On\",\n",
    "        \"decomp\": \"Off\",\n",
    "        \"solver\": \"simpleFoam\"\n",
    "    },\n",
    "\t\"inputs\": {\n",
    "\t\t\"inputDirectory\": \"agave://designsafe.storage.published//PRJ-2915/examples/pitzDaily\"\n",
    "\t\t}\n",
    "}"
   ]
  },
  {
   "cell_type": "markdown",
   "metadata": {},
   "source": [
    "### Submit job to TACC\n",
    "\n",
    "<font color='red'>Warning:</font> The next cell allows you to submit the job to the TACC supercomputer. Do not press shift-enter multiple times. Each one will result in a job submission. We will check in the next step to learn if a job was successfully submitted"
   ]
  },
  {
   "cell_type": "code",
   "execution_count": 41,
   "metadata": {},
   "outputs": [],
   "source": [
    "job = ag.jobs.submit(body=jobdetails)"
   ]
  },
  {
   "cell_type": "markdown",
   "metadata": {},
   "source": [
    "<hr style=\"border:2px solid gray\"> </hr>"
   ]
  },
  {
   "cell_type": "markdown",
   "metadata": {},
   "source": [
    "## Step 6/8: Check status of OpenFOAM job"
   ]
  },
  {
   "cell_type": "markdown",
   "metadata": {},
   "source": [
    "### Collect information about the job\n",
    "\n",
    "Import the Sync response to check the status of the job"
   ]
  },
  {
   "cell_type": "code",
   "execution_count": 42,
   "metadata": {},
   "outputs": [],
   "source": [
    "from agavepy.async import AgaveAsyncResponse\n",
    "asrp = AgaveAsyncResponse(ag,job)"
   ]
  },
  {
   "cell_type": "markdown",
   "metadata": {},
   "source": [
    "### Check the status of the job"
   ]
  },
  {
   "cell_type": "code",
   "execution_count": 45,
   "metadata": {},
   "outputs": [
    {
     "data": {
      "text/plain": [
       "'ACCEPTED'"
      ]
     },
     "execution_count": 45,
     "metadata": {},
     "output_type": "execute_result"
    }
   ],
   "source": [
    "asrp.status"
   ]
  },
  {
   "cell_type": "markdown",
   "metadata": {},
   "source": [
    "<hr style=\"border:2px solid gray\"> </hr>"
   ]
  },
  {
   "cell_type": "markdown",
   "metadata": {},
   "source": [
    "## Step 7/8: Accessing results and downloading"
   ]
  },
  {
   "cell_type": "code",
   "execution_count": 54,
   "metadata": {},
   "outputs": [
    {
     "data": {
      "text/html": [
       "\n",
       "        <iframe\n",
       "            width=\"560\"\n",
       "            height=\"315\"\n",
       "            src=\"https://www.youtube.com/embed/aHtLrxl5U9A?rel=0&amp;controls=1&amp;showinfo=0\"\n",
       "            frameborder=\"0\"\n",
       "            allowfullscreen\n",
       "        ></iframe>\n",
       "        "
      ],
      "text/plain": [
       "<IPython.lib.display.IFrame at 0x7fbb0e7efbe0>"
      ]
     },
     "metadata": {},
     "output_type": "display_data"
    }
   ],
   "source": [
    "## Accessing and downloading results (L01g)\n",
    "display(IFrame(('https://www.youtube.com/embed/aHtLrxl5U9A?rel=0&amp;controls=1&amp;showinfo=0'), width=560, height=315))"
   ]
  },
  {
   "cell_type": "markdown",
   "metadata": {},
   "source": [
    "<hr style=\"border:2px solid gray\"> </hr>"
   ]
  },
  {
   "cell_type": "markdown",
   "metadata": {},
   "source": [
    "## Step 8/8: Post-processing with Paraview"
   ]
  },
  {
   "cell_type": "code",
   "execution_count": 55,
   "metadata": {},
   "outputs": [
    {
     "data": {
      "text/html": [
       "\n",
       "        <iframe\n",
       "            width=\"560\"\n",
       "            height=\"315\"\n",
       "            src=\"https://www.youtube.com/embed/hbNAHcOYGKU?rel=0&amp;controls=1&amp;showinfo=0\"\n",
       "            frameborder=\"0\"\n",
       "            allowfullscreen\n",
       "        ></iframe>\n",
       "        "
      ],
      "text/plain": [
       "<IPython.lib.display.IFrame at 0x7fbb0e7efbe0>"
      ]
     },
     "metadata": {},
     "output_type": "display_data"
    }
   ],
   "source": [
    "## Postprocessing with paraview (L01h)\n",
    "display(IFrame(('https://www.youtube.com/embed/hbNAHcOYGKU?rel=0&amp;controls=1&amp;showinfo=0'), width=560, height=315))"
   ]
  },
  {
   "cell_type": "markdown",
   "metadata": {},
   "source": [
    "<hr style=\"border:2px solid gray\"> </hr>"
   ]
  },
  {
   "cell_type": "markdown",
   "metadata": {},
   "source": [
    "## Recap and next lesson"
   ]
  },
  {
   "cell_type": "markdown",
   "metadata": {},
   "source": [
    "In the next lecture on *Solvers and Files*, we will discuss the various solver options available in OpenFOAM and how to access them. Further, we will also discuss the input file structure and the various options available in these input files. "
   ]
  },
  {
   "cell_type": "code",
   "execution_count": 56,
   "metadata": {},
   "outputs": [
    {
     "data": {
      "text/html": [
       "\n",
       "        <iframe\n",
       "            width=\"560\"\n",
       "            height=\"315\"\n",
       "            src=\"https://www.youtube.com/embed/zZ77OGB7ME4?rel=0&amp;controls=1&amp;showinfo=0\"\n",
       "            frameborder=\"0\"\n",
       "            allowfullscreen\n",
       "        ></iframe>\n",
       "        "
      ],
      "text/plain": [
       "<IPython.lib.display.IFrame at 0x7fbb0e7e9fd0>"
      ]
     },
     "metadata": {},
     "output_type": "display_data"
    }
   ],
   "source": [
    "## Recap and next lesson (L01i)\n",
    "display(IFrame(('https://www.youtube.com/embed/zZ77OGB7ME4?rel=0&amp;controls=1&amp;showinfo=0'), width=560, height=315))"
   ]
  },
  {
   "cell_type": "markdown",
   "metadata": {},
   "source": [
    "# References\n",
    "\n",
    "1. CFD-Notebooks documentation [(Link)](https://nheri-simcenter.github.io/CFD-Notebooks)\n",
    "2. OpenFOAM Wiki [(Link)](https://openfoamwiki.net/index.php/Main_Page)\n",
    "3. Official OpenFOAM documentation [(Link)](https://openfoam.org/resources)\n",
    "4. Documentation from CFD Direct [(Link)](https://cfd.direct/openfoam/documentation)"
   ]
  }
 ],
 "metadata": {
  "kernelspec": {
   "display_name": "Python 3",
   "language": "python",
   "name": "python3"
  },
  "language_info": {
   "codemirror_mode": {
    "name": "ipython",
    "version": 3
   },
   "file_extension": ".py",
   "mimetype": "text/x-python",
   "name": "python",
   "nbconvert_exporter": "python",
   "pygments_lexer": "ipython3",
   "version": "3.6.8"
  }
 },
 "nbformat": 4,
 "nbformat_minor": 2
}
